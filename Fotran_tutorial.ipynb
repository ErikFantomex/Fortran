{
  "nbformat": 4,
  "nbformat_minor": 0,
  "metadata": {
    "colab": {
      "provenance": []
    },
    "kernelspec": {
      "name": "python3",
      "display_name": "Python 3"
    },
    "language_info": {
      "name": "python"
    }
  },
  "cells": [
    {
      "cell_type": "markdown",
      "source": [
        "# Ejecutar Codigo en jupyter notebooks "
      ],
      "metadata": {
        "id": "yGzbmyU9gB93"
      }
    },
    {
      "cell_type": "markdown",
      "source": [
        "Usando fortran en un entorno virtual "
      ],
      "metadata": {
        "id": "d1Y1ATCQd0X2"
      }
    },
    {
      "cell_type": "code",
      "execution_count": 4,
      "metadata": {
        "colab": {
          "base_uri": "https://localhost:8080/"
        },
        "id": "wkm1HqYec6oZ",
        "outputId": "2f25124b-1b0d-4ec5-872c-5c19c9c95a57"
      },
      "outputs": [
        {
          "output_type": "stream",
          "name": "stdout",
          "text": [
            "Writing get_age.f90\n"
          ]
        }
      ],
      "source": [
        "%%writefile get_age.f90\n",
        "\n",
        "program get_age\n",
        "    real :: year, age\n",
        "    print *, 'What year were you born?'\n",
        "    read *, year\n",
        "    age = 2020 - year\n",
        "    print *, 'Your age is', age\n",
        "end program get_age\n"
      ]
    },
    {
      "cell_type": "code",
      "source": [
        "%%script bash\n",
        "%%bash\n",
        "\n",
        "gfortran -ffree-form get_age.f90\n",
        "./a.out\n",
        "1984"
      ],
      "metadata": {
        "colab": {
          "base_uri": "https://localhost:8080/"
        },
        "id": "rQvvImYAd9bT",
        "outputId": "db9e722b-c47f-4169-e6fc-41f900462f6c"
      },
      "execution_count": 5,
      "outputs": [
        {
          "output_type": "stream",
          "name": "stdout",
          "text": [
            " What year were you born?\n",
            " Your age is   36.0000000    \n"
          ]
        },
        {
          "output_type": "stream",
          "name": "stderr",
          "text": [
            "bash: line 1: fg: no job control\n"
          ]
        }
      ]
    },
    {
      "cell_type": "markdown",
      "source": [],
      "metadata": {
        "id": "AzcrIsMvd9nG"
      }
    }
  ]
}