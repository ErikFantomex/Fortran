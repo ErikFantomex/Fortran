{
  "nbformat": 4,
  "nbformat_minor": 0,
  "metadata": {
    "colab": {
      "provenance": [],
      "include_colab_link": true
    },
    "kernelspec": {
      "name": "python3",
      "display_name": "Python 3"
    },
    "language_info": {
      "name": "python"
    },
    "gpuClass": "standard"
  },
  "cells": [
    {
      "cell_type": "markdown",
      "metadata": {
        "id": "view-in-github",
        "colab_type": "text"
      },
      "source": [
        "<a href=\"https://colab.research.google.com/github/ErikFantomex/Fortran/blob/main/Elementos_b%C3%A1sicos_de_MPI.ipynb\" target=\"_parent\"><img src=\"https://colab.research.google.com/assets/colab-badge.svg\" alt=\"Open In Colab\"/></a>"
      ]
    },
    {
      "cell_type": "markdown",
      "metadata": {
        "id": "8O8PdgW7a20x"
      },
      "source": [
        "[Regreso al índice](https://colab.research.google.com/drive/1FkTDokPR8tsXMH9PKeEi6Fvdd3tzqIkz)"
      ]
    },
    {
      "cell_type": "markdown",
      "source": [
        "#Programa secuencial"
      ],
      "metadata": {
        "id": "4DhKKSt557sQ"
      }
    },
    {
      "cell_type": "markdown",
      "source": [
        "## C"
      ],
      "metadata": {
        "id": "McNIuhzcz8Ta"
      }
    },
    {
      "cell_type": "code",
      "source": [
        "%%writefile saludo_sec.c\n",
        "#include<stdio.h>\n",
        "int main ( ){\n",
        "    printf(\"Hola, mundo de C + MPI\");\n",
        "\n",
        "    return 0;\n",
        "}"
      ],
      "metadata": {
        "colab": {
          "base_uri": "https://localhost:8080/"
        },
        "id": "DvlgjFri59y6",
        "outputId": "e4a62279-388a-48f8-a355-141a74b07814"
      },
      "execution_count": null,
      "outputs": [
        {
          "output_type": "stream",
          "name": "stdout",
          "text": [
            "Writing saludo_sec.c\n"
          ]
        }
      ]
    },
    {
      "cell_type": "code",
      "source": [
        "%%script bash\n",
        "gcc saludo_sec.c -o saludo1\n",
        "./saludo1"
      ],
      "metadata": {
        "colab": {
          "base_uri": "https://localhost:8080/"
        },
        "id": "w7Xt5fYv6LNo",
        "outputId": "b40629db-0fd0-4396-bc8d-c576bef46f8c"
      },
      "execution_count": null,
      "outputs": [
        {
          "output_type": "stream",
          "name": "stdout",
          "text": [
            "Hola, mundo de C + MPI"
          ]
        }
      ]
    },
    {
      "cell_type": "markdown",
      "source": [
        "## C++"
      ],
      "metadata": {
        "id": "jtilDdREz-dM"
      }
    },
    {
      "cell_type": "code",
      "source": [
        "%%writefile saludo_sec.cpp\n",
        "//#include<stdio.h>\n",
        "#include <iostream>\n",
        "#include <iomanip>\n",
        "using namespace std;\n",
        "int main ( ){\n",
        "    cout << \"Hola, mundo de C++ + MPI\";\n",
        "\n",
        "    return 0;\n",
        "}"
      ],
      "metadata": {
        "colab": {
          "base_uri": "https://localhost:8080/"
        },
        "id": "uFGMlbDy0AOj",
        "outputId": "4509ad7c-102c-437b-c0d7-7c2d9e922bca"
      },
      "execution_count": null,
      "outputs": [
        {
          "output_type": "stream",
          "name": "stdout",
          "text": [
            "Writing saludo_sec.cpp\n"
          ]
        }
      ]
    },
    {
      "cell_type": "code",
      "source": [
        "%%script bash\n",
        "c++ saludo_sec.cpp -o saludo2\n",
        "./saludo2"
      ],
      "metadata": {
        "colab": {
          "base_uri": "https://localhost:8080/"
        },
        "id": "XBaTjQkb0EfM",
        "outputId": "f88e9407-9044-44a7-bbfc-6578dfe6758f"
      },
      "execution_count": null,
      "outputs": [
        {
          "output_type": "stream",
          "name": "stdout",
          "text": [
            "Hola, mundo de C++ + MPI"
          ]
        }
      ]
    },
    {
      "cell_type": "markdown",
      "metadata": {
        "id": "cNwQuqw5mVI8"
      },
      "source": [
        "# Elementos básicos\n",
        "----------------------------------"
      ]
    },
    {
      "cell_type": "markdown",
      "metadata": {
        "id": "ITKXNZ12muX1"
      },
      "source": [
        "Un programa MPI consiste de procesos autónomos, que ejecutan su propio código, al estilo MIMD. El código ejecutado por cada proceso no es idéntico. Los procesos se comunican a través de llamadas a funciones de comunicación MPI. \n",
        "\n",
        "\n",
        "\n",
        "\n",
        "\n",
        "\n",
        "Todos los nombres MPI comienzan con MPI_, y la primera letra del nombre restante empieza en mayúsculas.  \n",
        "\n",
        " \n",
        "\n",
        "Casi todas las funciones regresan un código de error: MPI_SUCESS indica a un valor de retorno exitoso. "
      ]
    },
    {
      "cell_type": "markdown",
      "metadata": {
        "id": "vTxTFjFma_o_"
      },
      "source": [
        "Casi todas las funciones de MPI deben ser llamadas después de inicializar el ambiente MPI mediante la llamada a la función **MPI_Init()** y casi ninguna función puede ser llamada después de finalizado este ambiente mediante **MPI_FInalize()**.\n",
        "\n"
      ]
    },
    {
      "cell_type": "markdown",
      "metadata": {
        "id": "jHKLLIUpJA_u"
      },
      "source": [
        "## Bosquejo de un programa **C/C++** + MPI \n",
        "\n",
        "```\n",
        "#include<mpi.h>\n",
        "void main ( ){\n",
        "      // La declaración de variables puede ser antes o después de inicializado el ambiente MPI\n",
        "\n",
        "      MPI_Init ( NULL, NULL ); \n",
        "         // aqui van la mayoría de las llamadas MPI    \n",
        "      MPI_Finalize ( );\n",
        "\n",
        "      return;\n",
        "}\n",
        "```\n",
        "aunque también puede recibir argumentos desde la línea de comados (ver el ejemplo2), como sigue\n",
        "```\n",
        "#include<mpi.h>\n",
        "void main ( int argc, char **argv ){\n",
        "      // La declaración de variables puede ser antes o después de inicializado el ambiente MPI\n",
        "\n",
        "      MPI_Init( &argc, &argv ); \n",
        "         // aqui van la mayoría de las llamadas MPI    \n",
        "      MPI_Finalize( );\n",
        "\n",
        "      return;\n",
        "}\n",
        "```\n"
      ]
    },
    {
      "cell_type": "markdown",
      "metadata": {
        "id": "FTOpD0pZMCbm"
      },
      "source": [
        "## Bosquejo de un programa **Python** + MPI\n",
        "\n",
        "Debe importarse la librería mpi4py, después de lo cual se inicia automáticamente el ambiente MPI y se cierra cuando finaliza el programa. Así que un programa MPI tendrá la siguiente forma cuando se utiliza el comunicador MPI_COMM_WORLD.\n",
        "\n",
        "\n",
        "\n",
        "```\n",
        "from mpi4py import  MPI\n",
        "\n",
        "```\n",
        "\n",
        "\n",
        "\n",
        "\n",
        "\n",
        "\n"
      ]
    },
    {
      "cell_type": "markdown",
      "metadata": {
        "id": "m33nUMBta0Ax"
      },
      "source": [
        "[Regreso al índice](https://colab.research.google.com/drive/1FkTDokPR8tsXMH9PKeEi6Fvdd3tzqIkz)"
      ]
    },
    {
      "cell_type": "markdown",
      "metadata": {
        "id": "cLXF5VF6h8lJ"
      },
      "source": [
        "# Funciones básicas"
      ]
    },
    {
      "cell_type": "markdown",
      "metadata": {
        "id": "fjN9HfTZhP1m"
      },
      "source": [
        "## MPI_INIT()"
      ]
    },
    {
      "cell_type": "markdown",
      "metadata": {
        "id": "vLP-HoAShS1d"
      },
      "source": [
        "## MPI_FINALIZE()"
      ]
    },
    {
      "cell_type": "markdown",
      "metadata": {
        "id": "RegQBmH4dTT9"
      },
      "source": [
        "## MPI_COMM_SIZE\n",
        "\n",
        "\n",
        "---\n",
        "\n",
        "---\n",
        "\n",
        "\n",
        "\n",
        "\n",
        "\n",
        "\n",
        "\n",
        "\n",
        "![MPI_COMM_SIZE.png](data:image/png;base64,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)\n",
        "\n",
        "\n",
        "\n",
        "Esta función indica el número de procesos involucrados en un comunicador. Para MPI_COMM_WORLD, indica el número de procesos totales disponibles. Nótese que el número de procesos en MPI_COMM_WORLD no cambia durante la vida del programa MPI.\n",
        "\n",
        "En C/C++, el protitipo de la funcion es \n",
        "```\n",
        "int MPI_Comm_size(MPI_Comm comm, int *size)\n",
        "```\n",
        "\n",
        "En Python\n",
        "```\n",
        "size = comm.Get_size()\n",
        "```\n",
        "\n"
      ]
    },
    {
      "cell_type": "markdown",
      "metadata": {
        "id": "i_XZSycCgFK3"
      },
      "source": [
        "## MPI_COMM_RANK\n",
        "\n",
        "\n",
        "---\n",
        "\n",
        "\n",
        "---\n",
        "\n",
        "\n",
        "\n",
        "![MI_COMM_RANK.png](data:image/png;base64,iVBORw0KGgoAAAANSUhEUgAABFgAAACVCAIAAADjWNmLAAAAAXNSR0IArs4c6QAAAARnQU1BAACxjwv8YQUAAAAJcEhZcwAAEnQAABJ0Ad5mH3gAAFOASURBVHhe7d13WNNa/D/wJm3KhgqIylAEBSeiiCJO3CgOnKCIynLP60K9uK9b3LhwK+69foqi4sDxiIIDviogX0XhYT0gP+ivzcMvaUNJ27RNAb1c+3k9+QPSpk3OSZPzbk5OOeUAAAAAAAAAoGMgCAEAAAAAAAB0DgQhAAAAAAAAgM6BIAQAAAAAAADQORCEAAAAAAAAADoHghAAAAAAAABA50AQAgAAAAAAAOgcCEIAAAAAAAAAnQNBCAAAAAAAAKBzIAgBAAAAAAAAdA4EIQAAAAAAAIDOgSAEAAAAAAAA0DkQhAAAAAAAAAA6B4IQAAAAAAAAQOdAEAIAAAAAAADoHAhCAAAAAAAAAJ0DQQgAAAAAAACgcyAIAQAAAAAAAHQOBCEAAAAAAACAzlERhArDYILpD5zk4dl3Fvd0ajZw3bMiag6ozUSfTwS5ObhNOJoqpOYAAAAAAFSZ2iCUH/AypldMdM+Yg70fJYVUtiZVTMLXPmeIJ0f3PHV6WE4+/aGQjJu9T0keok29zhzrfzd2VE4O/Zm06cfouMPk02KfT1R8qMpT3viUSz02L2wzY7xT0IRWCxa4b9nS80bcmGK5tZWbSt4MOrTI2cfD0tnO0NbB3MOrycJN/d9nhCo8TTbh/+N75SC5gacOD87IU3xUaQr+fK23tDSuPRiH0x+qscLXZsrzjz8seVPadOpg78vnfV6+Hi9SeLLKKSTtBlndp075ZqtdE3HS4DOSsoo52O/VJ+YixdOHXz/UM+bw4HS5wqT2qDPX/YSVMxWnsteDzhGvf7Dvi9SKF6f7+WJtd3NevYF7UkXUHPAvEWfEnz0Vc+ZhuqaawHNuTmuhp+8ceikLp2YBAAAAAFSN2iCUPXBaQ4RDQhqO9/4pnalyGn9upAEqeTbPodVDuXgTdMyHK30hZZipaa+Jnvc/KLb18RTPnhjxONp5hZ/CQ1WZ8gOfb2/Rw4YrXUN5iIljq5tZSovkjY2NsHcykjwDQU0sDK1MUenifGvr+UdGlSo8XzKVXW5hL30Sahx6TlOEy+g9tq7kyRyk6ZRBcm36Git8baYsL199yaswQEwb1Q9c3Of9V6WlFKav/YIakGuOYJYrn6iLcCV77Q2kr81BnaYMKlF6AjEJY9u04BIl3uioXAVRe5Rer655lTPlJuHL7qMboQiH22xc7y+yEFUp/9ZUJ4xrPfoktKj/fSXHfQ0Rjt6gQyyuzBU/WtRGn2tF5FcxNQcAAAAAoCrYBCGEx+WgFg6n0itak0wT/rHHUDMOl4cSrVZVQQhzaRlz1vvmOcl0tt/5fV3WzWjS2UbyUAPbjXcn0Bap0SD0bfhuH2M+2eDm2XdxWhbZ+/r1oc/+j8/16C7Lx9s4GnF4ji6PFcJDjt9JfzOimY7om3jP7hGfFCSZH/z9fu/Vw+qYIUShGA5cO6yYvohkkgYhBEV4CKeuby9VzXTJFJodZS9AEIyHEK+nIghVv/C1magghLYN63lDWk3nvG+c7nt6l+eKEHu3ekSu4Bg1aRKdIC0N5in/oIMlgujxiScjLWcPVXMdSRqEED5Xj3hLM9uoJIaLQlULQqJEr7GNiRVAnfx6puXSHqpQcGe6E4bW6b/7M7SmawFtghBReTdC7blo3cHRGZBhAQAAAFB1LIIQwm/fXoBxsIHbAuT6bslNoV822hgTDejOVqaqgxC/q+dX5b5S/zti/zBTIqXw7Jwu0PpH1VgQyh0V1deAaEsjRnUm7ByhHF2EHwYf2j+4UG7mxPjZFkQbHRXUj7geqLTVE99samTL4yBc48AjimUiDUKoqaWHM4qYNNyforITXXn+mJ09eAhm0d0dUxmEaqDwtZkqgpDX+rHKb4dnDNs9xISoKcyx+Y00FduVH3DQm4/wLIIDrcg6tW8Z90PpORWTNAjxHB0ndiJiI+I0yUf5olAVgpDoTa8JjsSjqOOIHh8VikJK/GFDF0OE5zDtbgk1B/yrtAtC5eLPW72MEK79pFvF1BwAAAAAAK2xCkKjw11ceBzDLp3SVN30kjdqXQcU4VstX+Eg0DYIEdO3QXOaIkTLtd2C4bKZNRSEghP/rmdKbATXePQ+P7Hio8zTz+suLTAOghqNPawqfkx8ONNcj8PhNnA8Lbv/RDJRQUjgsGKmOcbh9fhH5ZuKX3Tw5HP03N02DOWrCULVLnxtJrVBiJz+d+A0B6Im0U7LRjJuF57k2cuQg7VwTXjs3pGoPtQw+LTK/oFUEHJyiT3h3JBMj7a73yh2pdM2CImTewc7kSnIfmj3FOVykPgZO9WRR0TMlUlwc1DtoGUQKsezj/qao6jAZ/9XuCgEAAAAgCpiFYTGHBoa4YIiWN3VT5lv+RA9aNeGx9H39Hh3yLEqQagwOGG2gMfhYB4dZTNrJAjhqT186xAvglgP6/WD5RAC+WP39+WjHI6gT9dMNYv8b/8QWzIStFs4nN77qyIINTkd264tj8Nv1/4tc4AJeTWfSErcbqtHnh6uLghVu/C1mTQGocLgm+MNiWBi6N1D/hqadApJWV5Pj4O2/stXJI1nHE7d4b0LFJ9GTbIg9DRr5PqO5EWhpqE+CndDaRWExO/7Tm5OvA5q59P1HeOVKFLRuTGWKKLXZcNH6BZXS2gbhMrLC2JG1kER/R6R6ZCEAAAAAFA17ILQ0YnvI6yIBm6rOYy3fAQ/nGLG4/B6bxzz83DVglDIpxX1iNSDtWwrm1kTQSjk3d/EanMQnuWyeHV37dMn8TPJpQzEcPwJuXuWlKaQF3OJJMPh2rWIza6cLwtC57+O/Kc9ivDqhN9jeuvsQbMdEcTQZmfyxLPqg1B1C1+bSXMQmnhuhB6REk0H91TuZFieO5zMbDyLCLK0Qz6tqk+8GGrW6PD/MPejqwxCOWEFp8mLQoiJzc7XcsXFPgjhKf1ntCLTlE3/zklyT6ZNhJ9XJjZAOVi7ZW/gelBtoX0Qwr/v7W9EfID67IZrQgAAAACoGpZBKEj8ulMPfRW3fHzrH2KNIGaNDqaGllYxCE285E8OembSv7tsZg0EoXz/yM7kRQnMzT1FVb8yxSn02yYbonWOmNgfyVB4SHEqu0JmHo581KkMQj9CPv/TwICDOIb5KI8v9/NsM1uUI/Du/j0/SFMQqmbhazNpCkLi1119zInS4Q/cxvAE4W2XZlwO5to+WTI+AZ7k2ZMoSg6vz6YxjK9GD0LleaM2eZIxxjFkID1isQxC+P94z3XFiCTVoFenxG/0Z8pP5eXCB7Oa8Dhcm9CbZdJ9nYnwa/yhZaG+PTu1c3Fp59FzaPDiqFsfFe9HKU2LjQof79PdvW07Dy/fsJXHnmUrXmLC8x/sWjRv/rJT70TleFHK9V0Rs4LH+o2bvGTHjVTq9iS8MOVGVMSMoLH+gZMWbj6flC/frq/+K1RF0eO9i+YtWHVOMjCbOC/pQmT4lKBll39UvHJJ+r29S4KH9fZ0c23bqf/oSRHRj78rxkq5Nc9Purht8ZRAf/8JUxZvv/pBMe8wByH8R8KZ6P37DxyN/aRcV+J3q9pjHMR0+AnW4QkAAAAAgI5tECrPHxvVk4eghsGnFG/5yD/sWBfhWA3vnV8YVrUg9DOufScjonmtP2J/gGxmDQSh/+05zIR4BaTJZPmMoW4KujCKvOKBtWqXSB9tjHFK7+pNDkVHxgbZTFoQCsPfd+lnxOE2cL6qOOT0+DPD9VFE3//weOIdNQah6hW+NpO6IBTy43bnAGciq3AEHu6vGDqeBcUGGXM5qOfyUdTtQ9LV5nD0PTqmMgVRuSBUGFZ4tlkj8qKQ9XbaRSE2QQj/NHBhW7I3I8KzjHjIdP1NNpXjX7d76SEcfvdIVUOOidLOTHMzJ1+dgyA8Pp9HZmnibz37sKuyLFTy9sC4FqbkIwjPSGCmJ/kLq+v515VMehjC0zd3xTioVeDRO2v62WKSF5JAUIHbXzdz8p9uHtxYv3I2BzFoFnbpO23Nqv8KVYB/39WLz+HaTrqV//ZQUBuBpDCwzhs+SXJRatRga2KPJd6KZ2jZ0N7ahMyvmK3Pjjel0sWlZGt+6FqElzVtzTmoSbsFd/Opp0kwBCE8+/Y8N6KEMfuR0SlMmbXkrH8dlIO1DH8OV/YAAAAAUBWsg1BhaPYe+zoIx9K3F9HmrmxZSkcJq/jNHK2DUF7g6wMuPchxmRHrAd0+0prL1Q9C4oT27jzyFXqsZb4iwTDlj93elWhRE6vaSd0NQtLpR5+xxNZykGYzh8hm0oNQef64oz58IvCMPkgEnsoF8dTug82Idmazm+S1CxZBqFqFr81EBSGkUY8W82a4UNPUlpPHNO7d2tCAbMuiNt3b3f3I1NXtf/uOr48g+g0iK2NM6PftDU3JBrPl8kcM+UQhCJXnjdrShWxUOwQNkF0U0hiEctJ8lrqTKYiLIsScOt09P6hJsOVltyfZEWmtQfB1uVa7TMGdmS30EQSr333OoUfpRUQbGy/5kXz7QLhva7c5D4WS5+Bfjo+2JYKpWeuArffSi4l0IMx9ezFigD2xoEGbeXEFkmeRpGEA0a9X39zCY+axhIycnC+JV9cPa0JkMQRr4ulhXcdt0sHHadk5mUk3I/2bEUWMYK0X05r21X+FKqCCkPWACQOsuQjPou3weVuOXkn4IikycdqmnnYdx6+7nJRdKslbP99Gj3LAiE1vvzxRWkAS1JrrmVuYWnSafTwhIzs749Xlf4Y2Jvd2/c7rU2iJUTEI4blxSzwERAqy8937jrmiykVJy9oRr280+JBcpgIAAAAAYIl9EAor/9InwIqDmDaMpo2TJh0ljOfY+pHkPhn1QYhb13Kgj70vNTXy7mbVzFL6C6e8ZsO6vPpf+iI1EIREcW1bS4JQ/62BCg+pnPL8NnSUBiFP9kGocaiPbKZcECoMKzzapD7CMevf7Xvlq4VmrLc24iBO0waXkf+yCULVKXxtJioIMeLZuTsu2eubq6JYcg84WCAcox6d6eWGf+rha0YsizSfNVT5opxiECoMKzrXvDHKQYytt76igpP6IMT3aD7Xg7yCZ97J7fYZFxfyhjB+z7UjmW6mkkzlRUeGEE1urPWSl0xRoezJghZEk96oQ8Szn9QsGVFpqWQRPDtmNJHcMeept/PkLryI0w8Orc9FsBYLHldcwZCGAWIXFHjvoV2BKroy0YbYKA5i4rWVNmJDyb3pDsQOy++xNVP23Oq/QhVIgxAJNXWbfTVTvqjExUUKhYNnRQ8SoMSeOPM+NYcgW/M6A/d/qVybwgvj6hNVbDjkSCE1hyAfhAril3c1RxGejc/OJDXjm+fs6UvUN9ZuOQz+BwAAAICq0CYIFQbdmmDM5fC81vlXDJ0c8mE5eR+/64Jh0qan+iCEoKiBIc+oYjI21bO2t+g53GXnJT/lH5CpgStCrz26SIKQx7KKzloap/yA3T3IIIS1afdGY9e4jG4DJV3jWs4ZKpupEITKs7wn2SKIgfU22cDQeaPWuUtGFKA6cbELQlUvfG2miq5x7rP6P40dmiCdLnXwJu8L0vfdrfrCWn7A/r7EVmA+2xUGHA88OYQMKtxGLe4q9aZTDkLleaO3diV/VanxBO8iyRz1QUhK0N41jvxdo4nxs82J1UfNrLckMFyAIidx2iaydY513cw02tjPyxOIRjrXesJl1fediD9t7qaPICb9935TegXRy6UuGAetO/ZcxZUNaRhABSNOVl4mImZnRHYn9hzEeFB0DjVLIv/AALJpT09p1X+FKqgIQoip19ZUNi8kTl3XiVhLfq9d1AxCxZrXGRlDizxkDXQha6DLRtpv2VYGIbwoYa2XJYpwG/SPfKUURuWUnCAX4jaeHqfmbi8AAAAAAFW0CkJhZbdcnLgcvpv7e2kfttxhEa1RRK/ehpdUu1N9EMJatH2pMV1UTDVwj9C3PgFEC57DsRzVR2FQZtVT8M1AcnhoVOB4VvHGHsVJeMelOfmtPNd76zjZTMUgVBj8aLoZj4N2jKB+eEf0sJ0rj6PfUXbbDMsgVOXC12Zivkco5N3K+ibEdtrI/eItfRK/8fQy4CB6VvOODIi9NJA+XZpb34h8ScOJMYo3ODEEocKw4ovNHVAOYtQgUnJRSGMQMnV1uS3rqvdtcLgLOV/Q1eMd454mfr/aXdpiZ7iNRvhorhOPgwhGxqjOQeW50QONiMTnsZbetatC2Z3JdlwOt+GUO9K2ORUGsNaLX9DzBP5jdx8iaPCazomn9SUjmvbHfA0QDq/5/Key2dV/hSqgghBq6X9WTUnQkHdeEQtgnTdQMwiyNZcPZRVP7fgPrQCpIOSz++GmvvWICkQFg6KzNF3TKr0UWJeIrTYhNyAIAQAAAKAKtAtCVOObZ74kTtJI/T8uzlyOsVcXWW+o2hWE8sdF9yNv1me8HKFqyttrT3bm4prNuRms8JD8FJq+pgHRouPw6q55Vnn9QSkIUcmH2PYX5LYHPyZzEa/vZtnVFbZBqKqFr82karCEH0PCW6FE+9QpbKD0Qo38FCIZ4FsDxRucVASh8jy/bd3Ii0L2kotC6oMQr7Hz5RS5bPbzdtt2xCYg/B6rRjB0kBO/kwYhr+0Moy6XnBplSqQIJ4VwIUf0hrwzhaM3MJp+gaaCKDHCFeMgBoMOSS+CVISBzvTLH8RsaYzB3FYky11vUROEqv4KVUAFoYrhEZjgRZ8fnt61cm6I/9C+3T3dXexMUMkC1MMEVWuuOghxLawsyTFBjAwQBHOedkvDvT+l14IakNfvgiEIAQAAAKAqtAxC1C9mSlvtQXdDTLgI33fPOFmjuXYFocLQnAMOdYk3RgzHHmF7mxD+oau3ZKw5h1CGYa8rp7yRa9uTY4VhreQ2SjkIleeNWt8BRbims28El/8YOK0Rggrsj1aON8A6CFWx8LWZVAWhwrCCc80duRxEz2JxrGx9KqbcYUuJmIQa+izqcWyvl9LUY8NQEx5RoGZyNzgRE3MQKgwrvtSCfC/D+ptehGgcLIH+g6rShxLmWxoS22DaYOMTpSgr/rxR0jGr45oPyk380ovjLImWtex6DhPxhzUdiBfg94ik3fciI3w4uwmPgxgPOyHt1VURBuT6gRGzqRjTfuVbubVQE4Sq/gpVQAUhft+obIaNLE09t2igkylR/gjPyMrBxbPP4OG+Ha2JWmIMQoprrjoIkXueRfdVj5IO+pL3WjkEX2Z6e5nS82PNieqyn3YPghAAAAAAqkDbIBSGJ3fubcjh2be6n+EdaoOgVk0vfKloZda6IERswpBFzcm4wm/u8kjNz8vITROuBxoTrTq0TsN9sht7lKa8080aS0ZV6B8pd+cMQxAqDP2y0caIgzhO8ik418wO5dQf3aewchH2Qahqha/NpDoIlecHnBhqQBSLcccO0p8Jkk1lN1s7cVX8zJFkEt1v60LerMXrtcGf/rKqglB5nt+OHuRFoYaB/XO1DkJh5T+GRriSVwLNPDsmK7xyecFBH32ESK/yPc2kxCn/eGAIwu+6Sa7pLq/43FgiLaH1Ai8q38GCf9nmJffq//0gRM2RwbNixthiCLdupym7bn3IowpRXdc49kEIFXgsiSMHoMC/nhxtw0W4dmPPqOkgR94PRRR22wj4ZVwAAAAAVIXWQYhoEB8awEe5plOXONuhSKOJA+jjHNS6IFQYVnStdSui4cVBm/j3zmT6NRvJFFxGW2FxYpeBFsQiSIMB3VKZVhhP7RfmSOYrQ9e2T+Ua6IxBKAz/n+5DzIhiabEqwIiLGk++RL+ookUQqlLhazOpCUJEsbzy7G1G9jrrt9mPNviEdBQHcsQIlWO15Y1c3Y4sLr0OHei/bKsyCBWG/bzcsgmXgxhZbzzkonUQIooizq2DIbGqWNflI+RKlRo+m2sdfJ3hMoLo7ZqO+kQScl3yXMWYzYT8s2PqETVs7kMfC02i7GWEGx9BsFbhz6gY8scFIfz77t56CCrwPZZLzZHAM7aQYzdULwihdcdfrih2/Pu5wEY8hGs9/CjTlTeS+MOajuTw3P32KKU1AAAAAAAWtA9ChWEFh5tYIRxTUwzlCubdlut9VAuDEPHubzY0lIw1zG3s7X47WW5biAiUdbvbrG51p56lb0ho5gHHhuRFDG6z0d2T5Mf1Lnvdd0478odrUEGDDQ8VO18xBqHywvFnR+ijCGZmwuE1dXkiXzhaBKGqFL42k9ogRJTVq/C6RHThWjU+/qGik9uXPuOsiMRhufKJyqtn5YUhn9c0IBakjZVHTmqCUHme3y4vslgaeTZw0D4IEU94GW5lTLyjSf11j2ilVI5/29GT/EHVHluZGth47uVgex6CGLlMufiFFiXw/Dcnw4eH7JMMYC1K3tDNjKhjiy6Lrlc+qTj50PgWhgjCtRlzWjYQQ+0IQuLMx+dOxcSciU+Xe65qaoLQjz39iKio7x7xkjawdUnSpl4CVfcIsQ9CVhNkQYh4Xs7VEEeMmOmzT255mdIrE6ykQ3ZXJ/MBAAAAQHdVJQiVf+sfYkO0QjmYq+IY07UyCBHTxKSdzm0F5A9uInyDtj0dg0Nd5s9oNWVM416tyN8JRRC9AIVtLAx6v8PBkWixcTjG9tahS7qdPTvg1vEem6Y2aiV5Ha6l9aqb45XTgoogFPbzLNkpjtgct4XD5a+caBeEtC98bSYNQSis/KvP7KYosVr24/rlSQZpyNlrb45wDDp7fFZ5tY2c8Pdd+pGDxyHO0wfLNlNdECJK7GrLpmR8ldA6CBEFOGyVO9lBzrRjhzeS31kip/LysrgZRLLi2k26zXxnScHDiM7mKAfhCpp2HRo0e97MoJHeXZwtMYSDtQynfqdUnB4zwdmQKAaeZau+/lPmzgr27epgQiyEmndaKuncRakdQajkjJ+ALKwhR9X8Kg+dmq5x4vRdfc3ILbdw8Z0WsX7LplVz/LrYG5PX+4jVqcEgRMi/Pc2ZT5Rp7+0fGPoxflrviXEQw4HRctemAAAAAADYqlIQKgxJPdt154bOx24q/GhMrQ1C5FT2xnvTBLtW5tI2GwXh8pt2b7b5vD/TuAihuXe7hnUwVBgPjVik1RD3W8mK14Kkk6ogVJ476sbWzjs2ecXLj3KmdRDSuvC1mTQGocLQnGNORKJDeILZVyeW54/d25uMCP23qnp+xZQ/7ogPeRmNa9fiTkWkUR+EyvP8o3qSi5CqEISIunjo7mlMLIx1jhhOzSQUnQ+wQjmYm+rf4SxKPjG3XxNyNAApBDWy7zl52+00Wo7Asx/tCOnmICC2XvocnsBpwPyYt8XU41J/XhAqLxd+iPZrKh3aQLLdpg07+q2IWeVNzKrhIETUxP2/WushqFm3DUmKl30KTgwXIIie2vu5AAAAAADUUBuEauMU8v1+/zMHe8ZEM00He527NEJ6pULllDM+/cnQe6f7nDnc59oV388Zajp0SafgHw/6Rv3dds7EZmGTXVes7RmfpPh7OLV5EqX6Xj/cS7GgqKnXqSMD3qYrBLM/eiIVxIwi0rBe9y1Mv6kqg//MTIy7fvHy7SfJGfllqp6J//z2Ju7q5RsP3nxTfVfRvw7/HtVXn3mAiKopy0q8c/HsuSuxCSk5/86QbT8vT2iAIpj76neQgwAAAABQNf+1IPSp20AD6rtoZoj+hJMKl1B0eRp3oC/ZPUwNqzF9lZb6cyeJgovjbbiIQbfNH3WkEV12M9SG36qiY9+fIP/c2PooYuy1Da4HAQAAAKCq/mtBKM/vwnxnv6EOI1VM/hM6xMr/WI1uTyGfj7ULGqZYSrJp1PBm6y8FKC31505SopdL22AI5rLkhWKHqz+SOHWth0HLRc/+mByEZ+zqY4JwbSZcYvpVWwAAAAAAVv5zXeNggqkaEwXPOR9ox0XrjTguG+DtDyZOvbhh/QXaLTn/cT/j/2qBoWbdN737cy5xAQAAAOD3gyAEky5NMnjmydE2PKzp5Jt51Bzw3yB8vaqjEWradb3S+AkAAAAAANqAIASTLk00eN7t2S6GWOPAs9904KrQn6IofrGbMdZw1NHPcDUIAAAAANUDQQgmXZrkidJPB7tY2vbd8EJ+1GtQO4k+nxjXrE7jwdte/aTmAAAAAABUGQQhmHRpAgAAAAAAQAKCEEy6NAEAAAAAACABQQgmXZoAAAAAAACQUBGEAAAAAAAAAODPBUEIAAAAAAAAoHMgCAEAAAAAAAB0DgQhAAAAAAAAgM6BIAQAAAAAAADQORCEAAAAAAAAADoHghAAAAAAAABA50AQAgAAAAAAAOgcCEIAAAAAAAAAnQNBCAAAAAAAAKBzIAgBAAAAAAAAdA4EIQAAAAAAAIDOgSAEAAAAAAAA0DkQhAAAAAAAAAA6B4IQAAAAAAAAQOdAEAIAAAAAAADoHAhCAAAAAAAAAJ0DQQgAAAAAAACgcyAIAQAAAIAkFoupv/5oOI5TfwEAdBsEIQAAAACUvj88yX/1oxLq3z8Xnnl6pv/SW98hDAEAflcQEj7fETxq5KiAjfFCag5JlLR/yuiRhFFjIq4wHZPwr+fD/Uf6zTj8XkTNAQAAAEDNwr/EBHb1O/xJeq7Ffzw+FrluxZL5MyeH/H3uy79+lUj8JS56yz/LF8+bMSlkzY1caWsBz312cuu6lUvnz5ocEn7qs1YrWZywqn+fv+MLqX8BALrqdwWh0ovjLFEOYuh7nP5lU9mdyQ25HBKCtVqUUEbNriR+t8od4/Cazn5Iz08AAADA7yJ6t3uog8Cy7cyrOX/oRYTSV+u8XIMvyTYP/3o3auXCwA7EeRtrtyzpX/8mUvz52tZl80a5ClAOv0fkFyoIfb+/b9WiIM96XA6v5aJnWq6kOHXngLZjYzL/0BoFALBTG4IQz6FVMyMEtRh6+JviEQmCEAAAgH8Vnr23vz7C4fAcZz74Raci4ct9W29SFzp+P3HKFi+H4ceUumWU3Qqz5daKICRVcma0AKkMQlLC+zMdeVUIQkS+fbPSw2n8hT813AIA2KgNQQjrvHxvcEMugrVc+FThohAEIQAAAP+ygoTdU/3GLT5HdRyreXkHhvaTb9//Pvj3k6NsXcKfKZ9lhQ9mNeHVoiBUenmCFaoUhBIWtqhaECKK/bSfTbNZcT+pfwEAuqdWBKEuGz++Xd/ZEEHNBx/8KncmgCAEAADgD1d2b7qT178UhERJK9xMOq39wHCLzR8fhMpLboU1shhyCIZNAEBn1ZIg9Fmcf2mCDRfBWsx/XEo9SIIgVF3Cr/GHloX69uzUzsWlnUfPocGLo259LKYerFCaFhsVPt6nu3vbdh5evmErjz3LVjwn4vkPdi2aN3/ZqXeicrwo5fquiFnBY/3GTV6y40YqVaV4YcqNqIgZQWP9Ayct3Hw+KV/+1FL9VwAAgD8Qnnt+nI2+Qvv+dyFzhEHHf5hykA4EofKSq0HWJn12wZ1CAOiqWhOEiMyz1tMQQesMOkC7KARBqDpEaWemuZlzEXIwCoTH5/NQ8k8OomcfdlWWhUreHhjXwpR8BOEZCcz0JH9hdT3/upJJPzHi6Zu7YhzUKvDonTX9bDHJC0kgqMDtr5s5+U83D25M9qKvgBg0C7tE/5qt+q8AAPgtxPkf7l84duDAsQuxr7OUB7EhiPLex104dvDoxYfvsunfXUmJS/Ky0t6/fp78TbIw/vNHyovHT159zqc3VUuy3j6Nf/wyNUfpDaq3uLi04HtGStKLV58LKo8eeFnhjy8fk18+T6Hdh8P8Pomf85RON+TiGalJL16nF1FzaDSVlvDH2/tXTh46cv7uq/QC5cY6XvByx1A7ntKtLwrUljguLM7J/Pj25cuPeeRLlGQlP014+125YhiIkpa76Tv99ZjxFCsXhPDizKQn8YzlI6VhQ7Uobzpx8dfkZ8+SM4uILdMyCIkLUh4QNbP/yNm7b3MZVkgi/8hQEzPfo/nUvwAAHVN7glB5ecGVibZcBGv+1yPZ8RuCUNUV3JnZQh9BsPrd5xx6lF5EnAXwkh/Jtw+E+7Z2m0OVJ/7l+GhbHoKatQ7Yei+9mKgFYe7bixED7IkFDdrMiyuQPIskjTGIfr365hYeM48lZOTkfEm8un5YEz2EyE1NPD2s67hNOvg4LTsnM+lmpH8zA3J268XPK08+1X8FAMCvJvx8Mbyfo3XbMRFRMRfPH926ONh32OyYj7QDcOmHU3P7unUbt3THqZs3T+1YOr6HW+9ZJ95VHNlFiev7OloZ8xAOObxXRu6jrVMnTFm4dmfU+smd7ey8wm9micuLXuyeOjZ43urtUZtn97Sv3y74aErF57x6i4sSN/Rr2sCU/J6F23h6nDSViD9FDXOSzkQtx12Unl7UvY+NdaeZ52UjRuPZxwOdrc3IxZVa25pKC8+JWzt+5KSVB6/cj489uzmkYyMnn2W3vsm+YxJ/OjnLu0Nzx/rGKAc1sW3pKuU+9XzlsVdjiZfFzm/f0MKAi3BQ6+BrWY+3Tgmas3i8m6lxi2nXNA6/gH+P6mto4nuMeRjpiiD0+sfDTaEBYYzlI6FpQ7Uob5mSD+eWDu/adeiUiMjd21bOCQkIXX3lwDiWQQjPil09tJVT9+m7rz64f3XvvF5NnYdseMTUyUD0JqIt3zbsFkOEBQDogNoUhMrF7zd0IS8KDdxfcZkaglBVlT1Z0AJDEKMOEc+U7gMVlZZKzhh4dszoeiiCOU+9LfkaUUacfnBofbKj4oLHFScHaYwhGhIC7z0ZlU8uujLRhhwAHTHx2vqx8kRWcm+6A4884W3NpObUxCsAAH4pccZxv0Z6Fn02v6k4ahAt9Snu9QQ9t1M/0iJ8u3OAjVWvLUm0ZmNZUmRvq/p9t76pnId/PzhYgPK7/rV2bvj5dOrojWds8zLgWo3etnf+3KMfqDMBnnN4qIAr8DlAHzO0eovjWfu8TZDKICSVf36cNbcyCEmoeZ/6AXJZpDz31Oi6qHxrW3NpFVyeaN+oz9/XZb0cCmOnO2FG7Zc9l2915+/31iPzAdMVIZYlLnq3ugOGNhg1f/7M6E+isrgZDlwOz3neE01nTuIkbMdvviCB+XnSINRm/Lzpi9SWD8sN1aK8C+NXdK0r6LAornJIN3HmuSluFnzlUeOUghCed3u2i5FR+4jnssoufjC3Bb/e0IMZlSeZCsXHfI34Fa0QAICuqVVBiDj4XZMMH+c896H0aRCEqujn5Qn1UQ7XesJlhp4cFPGnzd30EcSk/16lYcvLRS+XumActO7Yc9TyVIxBBSNO0k9XeEZkdz6RYowHRedQsyTyDwzQ43Cw1kteUjNq4hUAAL8Q/vXgEAsUc1n6srKxn7t/gAEiu7oiSl7raYQ5zY2Xb8eXCx/Pa4YZuK9MlB2nJUMao6ZOUy7RuhwJH//lzEP0Gow8nFV5yCEO8u0x1EIuoFRz8bK7U+25ikFIlBjhiikEITXvw2syS26kbGHCguZyrW3NpVUuevV3G+KYh3mu/1TRyBY9W9SSx7WbfEeuBFUHIfYlXnJyuBFqYO4Z8ZychWe/OHv43CvNA0Pn7vfW53ffQvtuik4ShBB+w6CLasuH9YayLe/8qyH2mPI4svj3Xb34SgWlFIR+3pvRFOM2DLtJ/xJQ/HG9J5/HFPnI3QWzn3ZPoYgBALqhlgWhcnHKpm5GCCoYsFdypIMgVDXCR3OdeBxEMDJGdQ4qz40eaIRwMI+1KQzfhJHfE3I53IZT7kj/p2IM1nrxi8rTPjH7x+4+RIzhNZ0TL1dDJcd8iQYBr/n8p9SMmngFAMCvI35LHG0RXjP5qwhFb2LWRETezCA/tKW3JzXkopYBF+hHcYnSKxPqoVyb4GsVj0hb0GYjTtKPQKLXEW0xRK9vVDatHYunb+nG5+gNOkR/ZvUWFz4gmttKQYhcWikIqXwf1GrCFblnKrS2NZcWQfj++Bz/gMXn02SHWPzbjp7E6g6Mlrv8oTIIaVHiJTEjjBGuwwy5jdZInLLWA9PzOcjcM451+bDdUHavJ/2OjtdioVJoKTo0SLmgFKum8IyfBYqYjYyRHxVIEo+J812q4vmOzGyYYPQZpTIGAOiC2haEiCPdjVB78qLQ7AfEMyEIVU3JqVGmRIpwUggXckRvlrUjgonimYoi+fqUgxgMOiT9vyLGdJbvQEDFGMxtRTI93agLQlV/BQDAL4Nn7+mnj3D0+u/Lo+YoEj0Pb0kcjpswHI6FT+Y58zg8Z9k995IWL7fR1LvKWcR87Hl6wsAzJElG/jhUvcWlS7MOQszvo/hM+da25tKSU5r16lr0xoj5M6YG92zEU1pMVRDSpsQlQYjfPVLFtR0VJNtqIH9epmFfPhQNG8ru9SQX1hB9hlMTmyAkjJ/jxOOgll6zNkXSbV7obctl6i0oSiJOhfpDjsKPCQGgk2pfECoXf4z0MkFQQf+oDByCUNVIi5u8nkM/38gTf1jTgQgmTF9DEoQPZzfhcRDjYSek/1fEGIWe1BUxpv3Kt/TZ6oJQ1V8BAPDLiN+tJg62iNGwE6q+GS+9GlQfJT6TDL2LqL60lT3U2GcRNUGoqouzX1qLZ8q3tjWXllTpx4sRozo6Nu08cfWxu8lZJSJJ5y62QUibEpcGIfnLZZpJtkNv0GHFn1SgsC8fdhvK6vXE7yVlazLylFLZsglCVKE5Tb74PlXRx0/fCuXOMyRJxz6TETHqaxIA8IeqhUGIONjdmtyYi/CcZsYVQRCqEnHKPx4YgvC7bpIvWTnF58YSdYLWC7yo/E0Y/mWblz7CwVotfkHNgCAEwJ+MusbB76OyKS29CKHYjJWQdsal3edRvSRTzcVVLc1wjxDr92G+IqSmtAiliZt7W/EMWk65LBs+TXqXi4YgJE45ve/GD+JvbUpcFoSk/7Ik6cHG77mDdtcVHcvyYb2hrF4P/xHVlxy3dPBhegc6CTZBSPQ8vBXG4drLX3ZSQxg/pynWIPgavboBADqjVgahcvGnbT1NEVTgvevOCghCVSF6u6YjcSrhuy6pHDZHSf7ZMfWIJGTus1/xi8iylxFufATBWoU/owoeghAAfzbyrhc+wm00NVapAVn25cMnolH688rEBihiOuy40h0lRTEjBQhqFXC+oulavSRTzcWFj4n8oLi09D59xXhT1SDEorTwzD39TRCuXfB1Wnsez9zmReUD/OvZjdFvJS8nDULdK9r3wvvzAjZKbmXRosSrFoTKSy8F1sXa/J1IbZYCdsGF/YayK29R8sr2GIK1W/ZGca1Y3SNUemdyIy6i32e3crorS0/6QPt1KanS82PqYG7La8uPxgIAfq/aGYTKy4tjpzryEMzJ17cNBKGqwHMvB9vzEMTIZcrFL7TCw/PfnAwfHrJP0pFclLyhmxkRhSy6LLpe+aTi5EPjWxgiCNdmzGnZ75lCEALgD4dnHR1mhXIbhd2U7yglTt/t67uTPGQIE1e4G3AbjLtADy2EgvMB9bn6bZc+k7Vv/9UgJH5LNKQVRiwjRwXgI6hFwAW5eFPlIKS5tMpuT7LjchSiSVncdAeuNB+I368LWCC9i7PkrL8AwdxXv5MeA0svBAccyJX8yb7EqxiExO/XdOCbjznP3C+MVflosaEsyxv/emioJarfad0HuZOCdGgHMjHK3QilVDXidxu6GqMmvXemyy+OZx0eO2qX4k1U4s8bu/DVDywEAPiD1dYgVC5O29nHDEF4PB7RGoYgVBUFDyM6mxOFzhU07To0aPa8mUEjvbs4W2IIB2sZTv1OqTg9ZoKzIcJBeJat+vpPmTsr2LergwmxEGreaWkc7deFIAgB8MfDv50PaWao3yJU9iMvRDPz84mgQQviqGZi2dvdg2yMmodV9oEqF3+7HNbcsEH/ra9pwaH4YmA9FK0bcJ6eEkrjZjjyEKNBB6WNfClRIjn0Mr/HVvq3/NVcvIy8+mPkvU/2RY4o7eTc4IGuGKLfa4fst24Iat7H1PcobYjn8pKbobZc+f5WGkoLz4jqZ4ZwbQPOyXrPiT4emBns25YvGRumNHZ2QKT0YIhn7vU2QwVDDkmeWRa/KOAf2dgxLEsc/76rtx4Zpt7LHUc1IxJLYz1V10NYlY8WG8q6vPHMMxOcDOsP2pNSWd7FLzf6NhGgHF6zebIfuCNJq6bhpFuVjQtRavTwhnoNfHYmVfb7Lk7aE+i7/IlSR/CSKxPq6Ws7yAQA4I9Ra4OQ9LcAyJ+hJodWhiBUNUXJJ+b2a2LKlRQjAUGN7HtO3nY7jVYLePajHSHdHATkD6dLnsMTOA2YH/OWfqYingVBCAAdgH+/vymgQ8NGHf3mrdm6bd2C4BFjwy+k0VvJwrSry0d0cO3iG7p4feT6RRN6tXX3XXrxY0XTVPRm64hObs1tzQUEc9vmbp2GbUks/XxgvGf7lg0tBYI6gjrWTm4d+6+IL80+NaWzu0vjuuRMgVVjl/Zd598ort7iVDLAc+4u7+vg0GPapkMxx6JWzRkfsv5+MtlXi4PoWTi49Fr+sETj+wjqO7q691sR/3/f7x5DzLSzIJ5oVsemmVuviDjpu2gqLXHm9Yghrazqtxu3fM/Ro7tXzJw4e39iUfa1mS6mAufuA/xW3ZN91yT8cGi8S107rxlrN4T7D51zhbxDSEZDiZfFRfTp2K5pA2Kl69Sxatymo2eX0dvlB+FUp+jc2LpG/fbIQqOU5mqsKB/i3MxiQ4XavJ6E+OudtaM7uHoFr9xz9NDWJVMCxkzffX+Hjx55jjK1bd5+0umc/0erGoGFXYv2nmOiKi4iiTJurBzp5uzmO2Nl5K7I5dNGDx676g7DrVDkD0Tpu0a8Zl1eAIA/y+8KQuDfg//MTIy7fvHy7SfJGfllqr72wn9+exN39fKNB2++0b7XBQDoIlFB2ot7t+OefcxT1UAU5n16Hhf3/FNerf2SSlz4+Vnstas3HyZ/J49ppenP7j5ISHyf9i3vZw23etWWljAn9dn9W7fiXqYVVHzXIy7OSs8qVjwW40VpCbev33nxhf5tIc2vKvGiS+OtBYMPqhn1gR3WG6oVYd7Hp3fvxCd9I0tFnPky9v6TV28/ZeYUCVm9LFFoz+7evv8yvZD56WS/PKP2K9nnRgDAHwaCEAAAAKCzhAmLWlv0i1IcM0cXlD2d37LekIP07pIAAN0CQQgAAADQXXjupYmObRYl0O+80QV49olR9p1WKw1OBwDQIRCEAAAAAF2GZx4b4dwr8oNORYLC2Jmu7eY9kL8dFgCgYyAIAQAAALoNz7k1q2v/9a9U3KD0x8Gzr03x9N6SpGtXwQAACiAIAQAAADpPmHpkQv/Q018qhjr4g/18tWm4z+I71R4gAgDwnwdBCAAAAADl5eLsxOeycbn/XHhu0vNUpV8UAgDoIghCAAAAAAAAAJ0DQQgAAAAAAACgcyAIAQAAAAAAAHQOBCEAAAAAAACAzoEgBAAAAAAAANA5EIQAAAAAAAAAOgeCEAAAAAAAAEDnQBACAAAAAAAA6BwIQgAAAAAAAACdA0EIAAAAAAAAoHMgCAEAAAAAAAB0DgQhAAAAAAAAgM6BIAQAAAAAAADQORCEAAAAAAAAADoHghAAAAAAAABA50AQAgAAAAAAAOgcCEIAAAAAAAAAnQNBCAAAAAAAAKBzIAgBAAAAAAAAdA4EIVBDxBnxZ0/FnHmYLqJmAAAAAACA2kQsFlN/6QAcx6m/VPn3gpCoKOtjcvLHb4VCagb4bys57muIcPQGHSqiZgAAAAAAgNqi9P3hSf6rH5VQ//7p8MzTM/2X3vquLgz9/iCE5zzd/9cwdxsDFOEQENTAxn3Y/OjnucyrKXy+I3jUyFEBG+OZA5Po1e7Q0SPHrLgh/RfPi98XsZS1ZUdflkoXBNUFQQgAwJI4PXbf5n+WLf5reljI+tjfccwoTD4ZPnaYX3DYhJH+4ZfStf5CFP/x+FjkuhVL5s+cHPL3uS+1+gtVPPfZya3rVi6dP2tySPipz9J1ZZwJwJ+uup/8Pwr+JSawq9/hTzrVcac4YVX/Pn/HF1L/Kvu9QQjPubespw2GIFwzx+5+UxdGRCyc5tejiRkPQfg2fVbdZwhDpRfHWaIcxND3OHN+Lb0W1ADl8L22S/8Vf9rQGSMDFjt63vvzpQuC6oIgBABgSZxyeVPEHN8WxgiH3zcqm5r7q+C5N2e2NrH3P5FWlnVwSB0UtfA/W0w9xhb+9W7UyoWBHYjzEdZuWVKtbkjg3+/vW7UoyLMel8NrueiZdF0ZZ5JE73YPdRBYtp15NUdTFxLwq0Al/BJMn3zqIV1U+mqdl2vwJfouphs7njh154C2Y2MyVWzi7wxChQ+WuJuhCGbrvfruN9ppRJQVt3ZgQwxBBR3/fqiY2bQMQuXCHymvXkq8epX4JvkdIeniVGceh4O1mXtD8n/ym0TqKS8TP+XC92I1BIIQAEArhYcG6SO/PgiJXixx4Rv2iCSvghTcmNnaop7Hsidl1INMhC/3bb3J2Emh7FaYLbfWByEp4f2Zjjz5zMM0E8/e218f4XB4jjMfQEf1fwlUwi/B+MmnHtM94pQtXg7Dj8l1EquJHU/14bIWEb1Z6eE0/gJz2vttQQjPvT6pKRF2LPpEJjP0Rit9u72fJRGSnCbfyJNbUW2DEAPRq6VtMCIIdVjzHlLPrwNBCACglZKYEca/PgiJP2/sgpFtf9Yn+rwDQ/tFfmE6ZQofzGrC+68EoYSFLZSDEMPMgoTdU/3GLT6nW/1lahmohJqn/Sf/D4Z/PznK1iVcqSyqv+OpPlzWKnmn/WyazYr7Sf1L97uCkCgxoh0fQUy8tn5UEUbEn3f0NkMQvtvy1/T6gCD0XwFBCACgld8ThEQvl7TGsPar3rE9/pfdm+7kpUNBCIA/ktaf/D+YKGmFm0mntR9qvijUHC5rl5JbYY0shhxiGDbhNwWhkhshtlwO2iDwgurblcqLLk+04XK4tqE3aZkHglBVFT3eu2jeglXnUsmNFuclXYgMnxK07PIP6aNEnaTf27skeFhvTzfXtp36j54UEf34u+K5Ec9/sGvRvPnLTr0TEX8nXdy2eEqgv/+EKYu3X/2gmHeYgxD+I+FM9P79B47GflLXFQUAoHt+ZxByZ9scwnPPj7PR7wFBCID/Ni0/+X8y8nNv0PGfms9Bag+XtUzJ1SBrkz67lO8U+j1BSHLy4CCCESfV5CCi6X7Gzxzl8JrMekDNIEAQqiL8+65efCJWTrqV//ZQUBsBlxykD+u84RP5oDg1arA1n5yD8AwtG9pbm/AQDoLZ+ux4I9dvEU/f3BXjoFaBh65FeFlj5AIU1KTdgrtyA00wBCE8+/Y8N1MUwexHRqdADgKgdsOFxTmZH9++fPlR0kG5JCv5acLb7wpdmYU/3t6/cvLQkfN3X6UXMLSmxSV5WWnvXz9P/ib5yOM/f6S8ePwk8XMeQ/eUmglCorz3cReOHTx68eG7bKZRQLVpDuEFL3cMteMhfDZBCC/OTHoSr2LbpMQFKQ8uHDuw/8jZu29ztcoe4vwP94klDxy7EPs6i+HoqakepG0fNkEILyv8kZGa9OJ1Ou1LLG2qkSL+mfUuIf7Zh2zp2hal3DqwYcU/0fFZ6spd9DP32+d3ic/eZklK9OePj6+eJaYXMmwQq71T484go6l81decMOcd8Tb79+w5fOVVtgjPfXn/Fa1Tv/pHGdVUJaigsm7I/9iVrIaiFZcWfM9ISXrx6nNB5aaSW/XlY/LL5ym0W0jYV7kmNfnJryD+8eL0hrkTRw7u399nWOCMFQdiPymMqyL8+ujIqukBvoN8x81asevMk0yFvUf88eq2det330oXl4tzX1/YtTp8zuyFa/bdTqU6ZYlz31zavWrRnDkLV+66lKywY1RrYdVEScvd9J3+eqy841Rrx9N0uJRgcQxkdehQ/Tosd+Dy8vwjQ03MfI8qDZH2W4KQpKMm0Qp3W/lW7b4uTvnHg3xep3XUDAIEoSqigpD1gAkDrLkIz6Lt8Hlbjl5J+CLZOcRpm3radRy/7nJSdqlk9/35NnqUA4YgBu2XJ9J2dWkQQvTMLUwtOs0+npCRnZ3x6vI/QxsTIQrR77w+hVagikEIz41b4iEgUpCd7953TAcpAEDtURY7v31DCwMuwkGtg69lPd46JWjO4vFupsYtpl2jnoLnxK0dP3LSyoNX7sfHnt0c0rGRk8+yW98qjwKixPV9Ha2MeQiHQ5waM3IfbZ06YcrCtTuj1k/ubGPdaeZ5hVGnFYKQMGFZJ5t6DaxtbO3sGjVtE3xc7W8/kEo/nJrb163buKU7Tt28eWrH0vE93HrPOvGu4mQhfr9jhJurq3MDA+LYVt/ZldR+4pGvzC8r/nRylneH5o71jVEOamLbUvJ0V1f3qecLqGcQq0gFodc/Hm4KDQhTs23leFbs6qGtnLpP3331wf2re+f1auo8ZMOjfE2bRBB+vhjez9G67ZiIqJiL549uXRzsO2x2zEfZkVljPUixCUJ49vFAZ2sz8kuuypnaVqNkU31dW/YMXbFly/LQPh69J0UsnDhm7v64+2u9zGyCr1NPU0Tuco3qGknep8/2Z+eXjhseMHXxir+nj+zczNFtxPJrabJNVrd3VrSxNewMlTSWr/qaK3yyyX/g+NUn4xJTPqW8ij22ZlI/J0HzeU+ky6t/lFHNVIIKGupGfclSr6GpaEWJG/o1bWBKbgC38fQ4aWtW/ClqmJN0Jmo57qK0DaBFlatXo5/8CuLMS3M86hIrh6CYsUBgokd+f4zoNQy+VPEVflnqsWDya2UEwczq1SOqDEFQQeugIx9oTZzSS4F1UW6jsMOnZribk08lXoT88ti0zcyrWZnXFnSxIjdfCtFvOvEsfa2qtbBK+PeovoYmvscUrkRUa8djc7jUfAxkd+hQ9zqsdmCK6E1EW75t2C2F6Pp7gpDw8Txy2DZ+710azmt5+731yE/SNOp/AgShKpIGIRJq6jb7aib9XEjsw8VFCreM4VnRgwQoOXbI/cojkTQIES9RZ+B+WuAvvDCuPlkpQ47QPlfyQaggfnlXcxTh2fjsTGKuOQBAbSN6t7oDhjYYNX/+zOhPorK4GQ5cDs95nvTBgssT7Rv1+fu67NRbGDvdCTNqv+y53HkF/35wsADld/1r7dzw8+nU0QTP2OZlwK0fQDtJEpSuCJXdnWrPt+o0JeqB9CsbtYRvdw6wseq1JYn29mVJkb2t6vfd+oY2T/K9MLEV6tqiNPnkaUjVV5zSINRm/Lzpi9RuG553e7aLkVH7iOey7Sh+MLcFv97QgxnqT0PijON+jfQs+mx+U3GIJlocU9zrCXpup377h2U9sL4iVF6ee2p0XVRhJvtqLH2+oqOJfvtlidTbF8fNdMIE3TcmCcvLUi7vPPRI7QU/6fekXEuHPrMvf6l4f1H66YnO+pid74EU2iqp2Dsl9cp2Z9BYvppqruzhnOYt5sbTX/LnwzmtWkpXQ/2jalWvElTQWDfS2apKVvIgy6LFs/Z5myCVQUgq//w4a25lEJLQosqZ/ZpP/s/HS9wMiVzTLnTfE+mVEFHBx7gD8wf3XSwdUA3PvhLaFEP0Gw9cce1zCfHpw0vSbqwa5GCAYI5BF2WtW0mWQfQFAnOX4MOvssuEBZ9iNw5tRIQmnm1zp7rNAvYmfC8VFqXd3z6qCZ9IVK3Cn1NLEqqwsMbiIgrnzmQ7fvMFCYzlUL0dT/XhksUxkNWhg82xVO0OTFN8zNeI32Wj4q+o/ZYgRFYClwhCXtvUh1f8x+4+RNudaxtGzSBAEKqiiiCEmHptTWXxSSkXp67rRBQTvxctrlJBCK0zMob+VYI4bZPkEh+xP1FzCJVBCC9KWOtliSLcBv0jXynkLQBALVZycrgRamDuGfGcPPnh2S/OHj73KkfykOjV35IDqef6T7LTz7NFLXlcu8l36E0f6QjNqKnTlEu0LgjCx38588h+z/RzsXwQwvMfrx0xaN7lL4yna0Wi5LWeRpiTfKOTIHw8rxlm4L6y8tJ2jQchhN8w6KLabft5b0ZTjNsw7Cb9+Cf+uN6Tz1PVHJHCvx4cYoFiLktfVh60c/cPMEAqv2pnXw+sg5AwYUFz5Zksq7HwjL8lymuxsHI4qrLYKY24XOvga6y+AyN2OWOE5zw3ntZUJhTfnUaUtEmPzbTbGpj3TqKeWO8MGstXU82J365sr99iwVO5OiyLmz1gIbl7qX9UvWpVggqs60ZlyWrxOSO/xeAqBiFRYoQrphCEtKlyBr/mky/+sKGLIdFoGXFcVTO15MFsJx5i3GVtstwbC99u6EpsTZPpd6ldRpJlOAjWcmGC7In41529JKNUN51xr3LPyjk02JRoNPXbS/1PqMLCipc9GOTu99bnd9+Swbhl1dvxVB4uWRwDWe2e7I6lqndgOeQ+itlPu6ew6/yWICR6Ht6KPHC7RiTSS1qJKHmFG/E8okaoGQQIQlVEBSHU0v8sreunGvjX7V7EAuRtRLJiooIQ1noJ7bRR+dSO/6RQcwhUEPLZ/XBT33rkZUrBoOgsFUcUAECtJIkmXIcZco0ZivD98Tn+AYvPp1UeIL7t6Mnn6A2MlvtuWhoWzEacpB95RK8j2mKo1YQrcg2iyiAkTDs3a8i4na/YHa2II//tSQ25qGXABaUTQ+mVCfVQrk3lubTmg5CmbSs842eBImYjY+TvLpC0FDGPtZIBbBiJ365yxxBeM/l1LXoTsyYi8mYGdRBmXQ9aBCGmmeyqUdqjHeuwuvL0ShS4C0YU4VbGIlQk2QkYbuQQPiNWSv6eYVV7J+udQWP5aqw5/McBHxPUsOmQpYfjUvMryqvo9cMXZA899Y+qV51KUIF93aj83GvxORM+INrOSkFIsq6KQUhjlav5qP6aT75kPTk8Z6bbaKRKrkxsgKKC4SdoyUCqIGZkHRStG3BeutNIswzxtvSXKr0WTLRUuQ3lvqyQpA2Fm0G0X1j14aSCOGWtB6bnc5D5Hv3q7XiqDpcsjoGsdk+Wx1KVO7A88isjTDD6jMK+83sGS8g/PkyAcBDjIYeVdiG6wuPDzIinmfkeo2YQIAhVERWE5HKNArzo88PTu1bODfEf2re7p7uLnQmqIgh1lr+UqCYIcS2sLHkIamhkgCCY87RbaiscAFC7SM4n/O6RzN8dUkqzXl2L3hgxf8bU4J6NeBy9/vvyqEckJOdQbqOpd9k1iPh9d396utnHjm/aZa1cJyZ1RM/DWxLtliazHyq1W4RPyK7YZJOGmlHjQUjTtgnj5zjxOKil16xNkXSbF3rbctWtCJ69p58+olSgqmiqB/aZR2VTiEU1Fp0bUxfl0W/EljRSiAbpdeaTtgJVreLykrP+dVDy3mLqf5V7J+udQWP5sqm5n09XdibWi+xuwTO2cfEaPWv7va+yN1b/qDrVqgQVWNeNqs89q6KlHpKua3WCUGWVq76dXJs10uKTnx89UB9BBX5nVe2z0guxjGNxi9+vdidWiag6yftIswzRKKVfWiq7GWrDlbSZaItLdzdiJvU/oQoL02cyk1SCgapGdPV2PBWHS1bHQBa7J9tjqaodWIEoaVk7TH/IUfrVJcLvCULklT0DhIPWCzjPHEklii5PsOZyEP2eOzKpOQTJD3lzEMXvumRKz42pgyJ6Aw5Q/zPQ6SBEftvKsGeUpp5bNNDJlEvkTp6RlYOLZ5/Bw307EsXPHIQU+lSqCUIE1KL7qkdJB33rcxHMIfgy09sDAGol6fmE+ahBHDc+XowY1dGxaeeJq4/dTc4qEUmOMsxBiHWDiGfXprffP9FLu5qhRu4Rz1g1nstLrwbVRzmM/cxEL5e6YMRhaNxF2YyaDkIato1aOafJF9+nKvr46VuhyvOQ+B3ZokKMhp1QXwos64GxgcN+JttqLH2+0sMUa73wKTWvKG6WM1bHa4v6sZFkVLaKy+5MacjlcB1mUP+r3DtZ7wway5dlzZWkXlk3eYiHU13yFm0i8nDNO8y/KVsp9Y+qVL1KUIFt3aj63LMqWuq1tfzcq61yudeQo80asf/k45lbe/A5XJuQm6reWHrfCb1Dqoz488bOGEfWNVWaZRQ+jdIsw+8m1z1NZRDSamHNQUiy3+sNOix/UaVC9XY8FYdLdp8kzbsny0+kyh1YgSTOmoyIUfj8/54gVI5/OzjEHOWggoH7lIfwlsK/RQ+uQzylzuCD32hPkdy5gnCwthFyv7NaQdpS5zaaEkvNYKDzQYiaI4NnxYyxxRBu3U5Tdt36kEeVq7quceyDECrwWBJHDmGIfz052oaLcO3GnoEOcgD8R8jOJ9T/NKWJm3tb8QxaTrksG59MepSpZhAy7LEplWioiFKjvOty9V3mP2TTO0765a/im0gIH80lGgi0LlXVC0LilNP7bvyoOIax2jZpZ3CuvfzXqSxQVyz4fdSdz9nXw28KQuXFDyLGjPD38vCevGLThiWBXVq0Hxv5WHNfMIrKVnHJOeYrQkp7J+udQWP5sqi5n5+SP8m+Txblf3p4LMLXyRDhNZl5n5ih/lG1fkkQYls3qj73rIqW+lypWleGe4Q0VrnqEK3NGmnxyf95epQAQYwGRqu640Z62UfxGolE2b1pjYmMVPHrYrUvCEm6zvJ77mBuitVoEKo4XLI8BmrcPdkeS1XtwAqIQmuKNQi+pvDJ+U1BiKjeRwta6SEcbsPA87JzCg2efXGiPQ9B+C3nx8tnNdGb5W58BNHrtI7hBjpx2vZexgjXOuiqwpUuOghC8vDvu3vrIajA95jcRx7P2NK92kEIrTv+csUuhn8/F9iIR9TO8KOM360CAGoblecTPHNPfxOEaxd8nZZT8MxtxJFActbGv57dGC1tvrBvvJHvhgr8qB7b+JfjI224fOdpt1n0qP1J9thHTIcdV+pkUBQzUoCgVgHnK1a0SkGoe8WZXXh/XsBGWTd8dttWemdyIy6i32e3csujLD3pA+2HVhSQ97DwEaK1Fat02i/78uETsUXa1MNvCkLFZ8eP2PkNLxfmpL54+upjjvoWixJVrWLJCBAcXtPZD6kZqvdO1juDxvLVWHOiV393H61wm4g48+AQS36HNcQ6q31UvV8ShNjWjcrPvRafM8nwwIrrKr3pnuFzr77K1XxUf80nH/9Kfq5Qc9+jTA1UkmTziJg1I07hckIpOYgC8UDFWte+ICR5VazN38w36ddEEFI+XLI6BrLYPVkeS1XuwPJKz4+pg7ktV/w97N8WhIjd98lSNyOEg5p3W/ZAfjAHPDd+RQ8L8k6gduGPlC7e4dmnx1hzOVybkccUxh0Vf4nxb8hFjDqtTWasXwoEIXn4D/JbMUTfPeIl7QNdkrSpl0DVPULsg5DVBFkQIp6XczXEESNm+uyTWx4AUDupPJ+U3Z5kR5yL5R8pi5vuwJWetcXv1wUsiJe0BKoahMij1ukxtlzMIegSi55EiSvcDbgNxl1Q6DRdcD6gPle/7dJnsnfXMgiVnPUXEK201VQrrfRCcMAB2XdGLLdN/G5DV2PUpPfOdPkDH551eOyoXfTmjAI86+gwK/J3RG7KnwnF6bt9fXcSC2pTD78nCOHZe7wdxp7VXGMqSHY5XrP5CtVTHDutCQ8V9N7xsbIIVe6drHcGjeWrqeaInalN/eHH5beWvOvbmLxRWf2j6v2KIMS6blS3I9l/zsgh8zCFsQvJ2/T5CGoRcEHxc8+yyhn8ok9+4Y2wxjwEazw2Rq6hWZp+e9uO6+RQuuLPu/oKUMTQdQbt50hEX6/PameEoGa9tlWsdS0MQuL3azrwzcecV4hwUtXb8VQeLlkcA1ntnuyOpap3YDpy4Ha+YGQM7Uskid8YhIiV+HJhShsT8qc4G/WctuXsg9cfUt48PLd1Rm97fXIohdaTziskHQqec2uOqzGC6Nn1/fvC21xyny7LSTq3pI8tH+FZD97zQf1eDkFIgTh9V19yVAqehYvvtIj1WzatmuPXxd4YldzhU5NBiJB/e5ozcRw07739A/1TBgCohYjDRm898rSmdKzEM6L6mSFc24BzstOW6OOBmcG+bfmY24pkUWns7IBI6WGi+GJgPdogSlKlcTMceYip3K96S9/NoP/eyjOh5GZWDmrVZ8Nz1ddNKGVvdw+yMWoeVtlFrFz87XJYc8MG/be+ph2GSu+QQ7LaTLzC3EVeEZ6519sMFQw5JFmrsvhFAf9UftPGettEqdHDG+o18NmZVNlboThpT6Dv8idqui8Q8G/nQ5oZ6rcIlf18B9Eq+XwiaNCCOPL0rUU9lNwMteVyG066RW/+qJmp0P2E9aaKUzZ3NzFu5OHt6+s7bPhIv7GBQaGzlkVdevGVsd2lSNKEQQVNhm19I3u+KP1scHMDgybjTtJbP6r3TvY7g6by1VRzkrY15jz1Fu1H/cVpu70bD9iTpulR9apXCSqwrBt1Jcu+aMvIqz9G3vtkP8AhSjs5N3igK4bo99pBv/mffZUz+0Wf/Px7i9qboQhWv/3waRGbd2xZuWCKfw8HI0Q2wLM4/cRYRz0Ewep1HDNvzdata+aN7dQAI5qmjf2OVjaRamEQIr8qaaynfCVEono7nprDpeZjILvdk8WxVO0OXKnkyoR6+gwjKvzWIETACxIPTe9moydpc1dA9Ky7To1+qe4nt/G8J9sC2lpIfvJXX1BXoEe02hF9O6+5Zz7SK48RBCElwg/Rfk2lQxuQ5c8zbdjRb0XMKm9iVg0HofLyovt/tdZDULNuG5KoOQCAWqcsLqJPx3ZNGwgEderUsWrcpqNnl9Hb6dfaxZnXI4a0sqrfbtzyPUeP7l4xc+Ls/YlF2ddmupgKnLsP8Ft1L0/4ZuuITm7Nbc0FBHPb5m6dhm1JLP18YLxn+5YNLYlXFgjqO7q691sRX0S+m5uTdR1iXh1rJzePPhFxZeVlt2a3sDAyNiUXr2Pj5DFf5a3LFGHa1eUjOrh28Q1dvD5y/aIJvdq6+y69KDspiFP3Bni2b2FnQW6UhU2z9p08eyxU+llxJcIPh8a71LXzmrF2Q7j/0DlXJJ1lRKy3raJ9Lcq4sXKkm7Ob74yVkbsil08bPXjsqjvM3fTl4d/vbwro0LBRRz+itbVt3YLgEWPDL6RVVAWLevh/73ePIVaL3G6BwMKuRXvPMVEfhJpmmtWxaebWi6gHLTcVz3+1fYiNSf2mLVu1atmiubOTg00dfclAPObusy7Tb/llJGkVY+0Xn9o5bWzQ3DV7ondEhPRq0aRT4Oa4LNlpR+PeSdCwM1RSX74ENTUnernUzXHY8n+mjwkOjzx8+szJ/etnDes9LOKmZDvVP6qKWLkSqrK/MdFcN2xKlm3R4jl3l/d1cOgxbdOhmGNRq+aMD1l/P5nstUk08iwcXHotpzqPsapy9X7NJx/PexYV0tnGQPqtMLHamLnLsMVHn2fLykP8NXadv7uNMdEWJR/nGVm7+a2985VeXrUxCJUXnRtb16jfnsofiSTVzI7HeLikaDgGsj50qHkdVjuwFPmLSfquDOMN/O4gJCXMfn1l/8blC+fMWbh8w77LidnqPsmV8KKMl7dPRa0Nnzt38epd5xIy5b7TANopy0q8c/HsuSuxCSk5Go8PAABAEOakPrt/61bcy7SCivOvuDgrPatY7gz7mwnzPj2Pi3v+KY/dmYQNvCgt4fb1Oy++VPssQ6zcs7u3779ML9SyiEQFaS/u3Y579rFiQBu62lIP+Nezwc3t+61/SrsGQhAXf3l6ZLanBa9BwHkN1y2krWLJDSPiosw38XcfJH4pYtkcZsJ6Z1BbviTGmiv58ukrecLEi9Kf3bl27db9VxlFlQ+rf/Q3q37dKGBVtOLCz89ir129+TD5O/mlaGn6s7sPEhLfp33L+1lRzjVX5b/gk09sQf7n53E3b91/mfq9WMVakfvO/fsv0gpU7Dq1T9Gl8daCwQcrL77XKA2HS8ZPUhV2T8bXYY3s2WfUfiVDSPp3ghAAAAAA/tuEzxa11Ce75FH/yxG9WdaObx18Xf0XbbRWMahJrOqG+vf3gir/FwgTFrW26BdVa0auqoFDh3bKns5vWW/IQXofzQoQhAAAAACgPeGT+c30XSOYh6MSvY5w1XOa+0j9t/XQKv5FWNUN9e/vBVX+b8BzL010bLMooZZ0AKqBQ4c28OwTo+w7rX7D+HYQhAAAAABQBeKMmHFN63cOvyV3mwRB9PVWeOd6jv7HNdz7jmdEducjPMfp96Crew2rdt38IlDl/xI889gI516RtWTgqt+6exbGznRtN++BilEzIAgBAAAAoGrwnIT9c329egwKnLtyS9S+qK1rlswMHNSjx9BZex79UNeUKbu3tGd712aOjR0cHR0aO7V28wg+ytRxBVRZlevmF4Eq/3fhObdmde2//lUtSaC/affEs69N8fTekqTyWhgEIQAAAABUT1le2puE+Afxz5PTfhTXji+dAQXqBlCEqUcm9A89/eVfuRiowi/dPX++2jTcZ/EddcNEQBACAAAAAADgzyfOTnzOMKz8nwnPTXqeWvkDRIwgCAEAAAAAAAB0DgQhAAAAAAAAgM6BIAQAAAAAAADQORCEAAAAAAAAADoHghAAAAAAAABA50AQAgAAAAAAAOgcCEIAAAAAAAAAnQNBCAAAAAAAAKBjysv/Pzl7OFVU3ppAAAAAAElFTkSuQmCC)\n",
        "\n",
        "\n",
        "\n",
        "Indica el número que le corresponde que hace la llamada en el rango 0,..., *size*-1, donde *size* es el valor regresado por MPI_COMM_SIZE.\n",
        "\n",
        "En C/C++, el prototipo de la función es \n",
        "```\n",
        "int **MPI_Comm_rank**(MPI_Comm comm, int *rank)\n",
        "```\n",
        "\n",
        "En Python, \n",
        "```\n",
        "size = comm.Get_rank()\n",
        "```"
      ]
    },
    {
      "cell_type": "markdown",
      "metadata": {
        "id": "4_ySpjO-ayl8"
      },
      "source": [
        "[Regreso al índice](https://colab.research.google.com/drive/1FkTDokPR8tsXMH9PKeEi6Fvdd3tzqIkz)"
      ]
    },
    {
      "cell_type": "markdown",
      "metadata": {
        "id": "Z3i-ZJtTnnQN"
      },
      "source": [
        "# Ejemplo1. Saludo desde cada proceso"
      ]
    },
    {
      "cell_type": "markdown",
      "metadata": {
        "id": "KiezCr_f4vfA"
      },
      "source": [
        "## C"
      ]
    },
    {
      "cell_type": "code",
      "metadata": {
        "id": "Eu5QSNlNgnfb",
        "colab": {
          "base_uri": "https://localhost:8080/"
        },
        "outputId": "16200db7-8c7f-40ee-b490-9a5f6526b133"
      },
      "source": [
        "%%writefile saludo.c\n",
        "\n",
        "#include<stdio.h>\n",
        "#include<mpi.h>\n",
        "\n",
        "void main ( ){\n",
        "    int rank, size, ind1,ind2 ;\n",
        "    MPI_Init (NULL,NULL) ;\n",
        "    \n",
        "    ind1 = MPI_Comm_rank (MPI_COMM_WORLD,&rank ) ; // Identificador de proceso\n",
        "    ind2 = MPI_Comm_size (MPI_COMM_WORLD,&size ) ; // numero de procesos\n",
        "    \n",
        "    if( ind1==MPI_SUCCESS && ind2==MPI_SUCCESS)\n",
        "      printf( \"Hola, mundo, desde el proceso %d de %d\\n\" ,rank, size);\n",
        "\n",
        "    MPI_Finalize ( ) ;\n",
        "    return ;\n",
        "}\n"
      ],
      "execution_count": null,
      "outputs": [
        {
          "output_type": "stream",
          "name": "stdout",
          "text": [
            "Writing saludo.c\n"
          ]
        }
      ]
    },
    {
      "cell_type": "code",
      "metadata": {
        "id": "OtTCbKlV2Not",
        "colab": {
          "base_uri": "https://localhost:8080/"
        },
        "outputId": "2870330a-7004-42aa-dc66-9ac9cb650add"
      },
      "source": [
        "%%script bash\n",
        "mpicc saludo.c -o saludo\n",
        "mpirun --allow-run-as-root -np 3 saludo"
      ],
      "execution_count": null,
      "outputs": [
        {
          "output_type": "stream",
          "name": "stdout",
          "text": [
            "Hola, mundo, desde el proceso 0 de 3\n",
            "Hola, mundo, desde el proceso 2 de 3\n",
            "Hola, mundo, desde el proceso 1 de 3\n"
          ]
        }
      ]
    },
    {
      "cell_type": "markdown",
      "metadata": {
        "id": "ZINuzYLtnJTv"
      },
      "source": [
        "## C++"
      ]
    },
    {
      "cell_type": "code",
      "metadata": {
        "id": "GyJn5UNTnMX8",
        "colab": {
          "base_uri": "https://localhost:8080/"
        },
        "outputId": "8ddfd0d6-3d1e-4d9b-b296-8cda39293a47"
      },
      "source": [
        "%%writefile saludo.cpp\n",
        "#include <iostream>\n",
        "#include <cstdlib>\n",
        "#include <mpi.h>\n",
        "\n",
        "using namespace std;\n",
        "\n",
        "int main()\n",
        "{\n",
        "    int rank, size;\n",
        "\n",
        "    MPI_Init(NULL, NULL);\n",
        "\n",
        "    MPI_Comm_size(MPI_COMM_WORLD, &size); // Numero total de procesos\n",
        "    MPI_Comm_rank(MPI_COMM_WORLD, &rank); // Valor de nuestro identificador\n",
        " \n",
        "    cout << \"Hola, mundo, desde el proceso \" << rank << \" de \" << size << endl;    \n",
        "    \n",
        "    MPI_Finalize();\n",
        "    return 0;\n",
        "}"
      ],
      "execution_count": null,
      "outputs": [
        {
          "output_type": "stream",
          "name": "stdout",
          "text": [
            "Writing saludo.cpp\n"
          ]
        }
      ]
    },
    {
      "cell_type": "code",
      "metadata": {
        "id": "60nYfZO8nMoE",
        "colab": {
          "base_uri": "https://localhost:8080/"
        },
        "outputId": "552a9e87-062e-4eda-990c-9c33785d25a6"
      },
      "source": [
        "%%script bash\n",
        "mpicxx  saludo.cpp -o saludo\n",
        "mpirun --allow-run-as-root -np 3 saludo"
      ],
      "execution_count": null,
      "outputs": [
        {
          "output_type": "stream",
          "name": "stdout",
          "text": [
            "Hola, mundo, desde el proceso 0 de 3\n",
            "Hola, mundo, desde el proceso 1 de 3\n",
            "Hola, mundo, desde el proceso 2 de 3\n"
          ]
        }
      ]
    },
    {
      "cell_type": "markdown",
      "metadata": {
        "id": "Wgon-ioonajL"
      },
      "source": [
        "## PYTHON"
      ]
    },
    {
      "cell_type": "code",
      "metadata": {
        "colab": {
          "base_uri": "https://localhost:8080/"
        },
        "id": "vuVTKuoZNnGG",
        "outputId": "4d99287a-fa38-454f-86de-0112dbf6dc94"
      },
      "source": [
        "%pip install mpi4py"
      ],
      "execution_count": null,
      "outputs": [
        {
          "output_type": "stream",
          "name": "stdout",
          "text": [
            "Looking in indexes: https://pypi.org/simple, https://us-python.pkg.dev/colab-wheels/public/simple/\n",
            "Collecting mpi4py\n",
            "  Downloading mpi4py-3.1.3.tar.gz (2.5 MB)\n",
            "\u001b[K     |████████████████████████████████| 2.5 MB 5.2 MB/s \n",
            "\u001b[?25h  Installing build dependencies ... \u001b[?25l\u001b[?25hdone\n",
            "  Getting requirements to build wheel ... \u001b[?25l\u001b[?25hdone\n",
            "    Preparing wheel metadata ... \u001b[?25l\u001b[?25hdone\n",
            "Building wheels for collected packages: mpi4py\n",
            "  Building wheel for mpi4py (PEP 517) ... \u001b[?25l\u001b[?25hdone\n",
            "  Created wheel for mpi4py: filename=mpi4py-3.1.3-cp37-cp37m-linux_x86_64.whl size=2185279 sha256=8aedd2a7186bed37f56d772ae346f897191bd35afd63d2f3ad05fe56130661c6\n",
            "  Stored in directory: /root/.cache/pip/wheels/7a/07/14/6a0c63fa2c6e473c6edc40985b7d89f05c61ff25ee7f0ad9ac\n",
            "Successfully built mpi4py\n",
            "Installing collected packages: mpi4py\n",
            "Successfully installed mpi4py-3.1.3\n"
          ]
        }
      ]
    },
    {
      "cell_type": "code",
      "metadata": {
        "colab": {
          "base_uri": "https://localhost:8080/"
        },
        "id": "zRPZGuWcz8H8",
        "outputId": "d3033e29-3058-4e9d-ed0f-26aaf5238c24"
      },
      "source": [
        "!pip install emoji --upgrade"
      ],
      "execution_count": null,
      "outputs": [
        {
          "output_type": "stream",
          "name": "stdout",
          "text": [
            "Looking in indexes: https://pypi.org/simple, https://us-python.pkg.dev/colab-wheels/public/simple/\n",
            "Collecting emoji\n",
            "  Downloading emoji-2.0.0.tar.gz (197 kB)\n",
            "\u001b[K     |████████████████████████████████| 197 kB 5.3 MB/s \n",
            "\u001b[?25hBuilding wheels for collected packages: emoji\n",
            "  Building wheel for emoji (setup.py) ... \u001b[?25l\u001b[?25hdone\n",
            "  Created wheel for emoji: filename=emoji-2.0.0-py3-none-any.whl size=193022 sha256=845a311db1e169899e91965f189ccbb7249bf0edef422b2403d1cf9ccb5c09e8\n",
            "  Stored in directory: /root/.cache/pip/wheels/ec/29/4d/3cfe7452ac7d8d83b1930f8a6205c3c9649b24e80f9029fc38\n",
            "Successfully built emoji\n",
            "Installing collected packages: emoji\n",
            "Successfully installed emoji-2.0.0\n"
          ]
        }
      ]
    },
    {
      "cell_type": "code",
      "metadata": {
        "id": "brlZum42ndIs",
        "colab": {
          "base_uri": "https://localhost:8080/"
        },
        "outputId": "cd452a0e-ae27-44d4-f5c3-018ce51fe33c"
      },
      "source": [
        "%%writefile saludo.py\n",
        "from mpi4py import  MPI\n",
        "import emoji\n",
        "\n",
        "comm  = MPI.COMM_WORLD\n",
        "rank = comm.Get_rank()\n",
        "size = comm.Get_size()\n",
        "\n",
        "print(\"Hola, mundo, desde el proceso\", rank,\"de\",size,  emoji.emojize('... Python es :thumbs_up:'))"
      ],
      "execution_count": null,
      "outputs": [
        {
          "output_type": "stream",
          "name": "stdout",
          "text": [
            "Writing saludo.py\n"
          ]
        }
      ]
    },
    {
      "cell_type": "code",
      "metadata": {
        "id": "xDYBAnnand1L",
        "colab": {
          "base_uri": "https://localhost:8080/"
        },
        "outputId": "18a397ed-6bb9-4238-ff68-9580267b2679"
      },
      "source": [
        "%%script bash\n",
        "mpiexec -allow-run-as-root -np 3    python saludo.py"
      ],
      "execution_count": null,
      "outputs": [
        {
          "output_type": "stream",
          "name": "stdout",
          "text": [
            "Hola, mundo, desde el proceso 1 de 3 ... Python es 👍\n",
            "Hola, mundo, desde el proceso 2 de 3 ... Python es 👍\n",
            "Hola, mundo, desde el proceso 0 de 3 ... Python es 👍\n"
          ]
        }
      ]
    },
    {
      "cell_type": "markdown",
      "metadata": {
        "id": "rKJuU1dXsmvD"
      },
      "source": [
        "## FORTRAN"
      ]
    },
    {
      "cell_type": "code",
      "metadata": {
        "colab": {
          "base_uri": "https://localhost:8080/"
        },
        "id": "1VYipTbksouh",
        "outputId": "ddeb1615-76c6-4dfc-ad1c-0d02a606d143"
      },
      "source": [
        "%%writefile hello_world_mpi.f90\n",
        "PROGRAM HELLO_WORLD_MPI\n",
        "USE MPI\n",
        "\n",
        "INTEGER  rank, size, ierror\n",
        "\n",
        "CALL MPI_INIT(ierror)\n",
        "CALL MPI_COMM_SIZE(MPI_COMM_WORLD,size,ierror)\n",
        "CALL MPI_COMM_RANK(MPI_COMM_WORLD,rank,ierror)\n",
        "\n",
        "WRITE(*,*) \"Hola, Mundo, desde el proceso \", rank, \"de \", size\n",
        "\n",
        "CALL MPI_FINALIZE(ierror)\n",
        "END PROGRAM"
      ],
      "execution_count": null,
      "outputs": [
        {
          "output_type": "stream",
          "name": "stdout",
          "text": [
            "Writing hello_world_mpi.f90\n"
          ]
        }
      ]
    },
    {
      "cell_type": "code",
      "metadata": {
        "colab": {
          "base_uri": "https://localhost:8080/"
        },
        "id": "ryl8M709soyI",
        "outputId": "359cdc00-a23b-4731-ea63-65562c23a767"
      },
      "source": [
        "%%script bash\n",
        "mpif90  hello_world_mpi.f90 -o saludo\n",
        "mpirun --allow-run-as-root -np 4 saludo"
      ],
      "execution_count": null,
      "outputs": [
        {
          "output_type": "stream",
          "name": "stdout",
          "text": [
            " Hola, Mundo, desde el proceso            2 de            4\n",
            " Hola, Mundo, desde el proceso            3 de            4\n",
            " Hola, Mundo, desde el proceso            0 de            4\n",
            " Hola, Mundo, desde el proceso            1 de            4\n"
          ]
        }
      ]
    },
    {
      "cell_type": "markdown",
      "metadata": {
        "id": "BOZXPIcOaw5H"
      },
      "source": [
        "[Regreso al índice](https://colab.research.google.com/drive/1FkTDokPR8tsXMH9PKeEi6Fvdd3tzqIkz)"
      ]
    },
    {
      "cell_type": "markdown",
      "metadata": {
        "id": "vBXe3C_EYNlZ"
      },
      "source": [
        "# Ejemplo2. Saludo con argumentos"
      ]
    },
    {
      "cell_type": "markdown",
      "metadata": {
        "id": "J-nXqElfoOGG"
      },
      "source": [
        "## C"
      ]
    },
    {
      "cell_type": "code",
      "metadata": {
        "id": "5C_eJGWjSQXs",
        "colab": {
          "base_uri": "https://localhost:8080/"
        },
        "outputId": "e0fb53ba-5221-4043-a3d0-d4e01ec4267c"
      },
      "source": [
        "%%writefile saludo_args.c\n",
        "#include <stdlib.h>\n",
        "#include \"mpi.h\"\n",
        "#include <stdio.h>\n",
        "\n",
        "void main (int argc, char** argv) {\n",
        "    int rank,size,m;\n",
        "    float x;\n",
        "    char *cadena = argv[2];\n",
        "\n",
        "    MPI_Init(&argc, &argv);\n",
        "    \n",
        "    if(argc!=4){\n",
        "        printf(\"se requiere que se envien 4 argumentos\");\n",
        "        MPI_Finalize();\n",
        "        return;\n",
        "    }\n",
        "    \n",
        "    m = atoi(argv[1]);\n",
        "    x = atof(argv[3]);    \n",
        "\n",
        "    MPI_Comm_size(MPI_COMM_WORLD, &size); // Numero total de procesos\n",
        "    MPI_Comm_rank(MPI_COMM_WORLD, &rank); // Valor de nuestro identificador\n",
        "\n",
        "    if(rank!=0) printf(\"\\t Soy el proceso = %d de %d \\n\",rank,size);\n",
        "    \n",
        "    printf(\"\\nSoy el %d y recibi el argumento %d, '%s' y %f\\n\",rank,m, cadena, x); \n",
        "\n",
        "    MPI_Finalize(); \n",
        "    return ;\n",
        "}\n"
      ],
      "execution_count": null,
      "outputs": [
        {
          "output_type": "stream",
          "name": "stdout",
          "text": [
            "Writing saludo_args.c\n"
          ]
        }
      ]
    },
    {
      "cell_type": "code",
      "metadata": {
        "colab": {
          "base_uri": "https://localhost:8080/"
        },
        "id": "kiTmR4lXTbvX",
        "outputId": "30744438-af7d-4166-9a25-6df7cf3d1041"
      },
      "source": [
        "%%script bash\n",
        "mpicc saludo_args.c -o saludo_args\n",
        "mpirun --allow-run-as-root -np 5 saludo_args 8 \"La UniSon rifa\" 2.1"
      ],
      "execution_count": null,
      "outputs": [
        {
          "output_type": "stream",
          "name": "stdout",
          "text": [
            "\t Soy el proceso = 1 de 5 \n",
            "\n",
            "Soy el 1 y recibi el argumento 8, 'La UniSon rifa' y 2.100000\n",
            "\t Soy el proceso = 4 de 5 \n",
            "\n",
            "Soy el 4 y recibi el argumento 8, 'La UniSon rifa' y 2.100000\n",
            "\n",
            "\t Soy el proceso = 3 de 5 \n",
            "\n",
            "Soy el 3 y recibi el argumento 8, 'La UniSon rifa' y 2.100000\n",
            "Soy el 0 y recibi el argumento 8, 'La UniSon rifa' y 2.100000\n",
            "\t Soy el proceso = 2 de 5 \n",
            "\n",
            "Soy el 2 y recibi el argumento 8, 'La UniSon rifa' y 2.100000\n"
          ]
        }
      ]
    },
    {
      "cell_type": "markdown",
      "metadata": {
        "id": "Fotk9D4ooQ7c"
      },
      "source": [
        "## C++"
      ]
    },
    {
      "cell_type": "code",
      "metadata": {
        "id": "G68Ha3_XKubj",
        "colab": {
          "base_uri": "https://localhost:8080/"
        },
        "outputId": "85cf218e-4742-4f2c-85e9-f4c25a571c2f"
      },
      "source": [
        "%%writefile saludo_args.cpp\n",
        "#include <cstdlib>\n",
        "#include <mpi.h>\n",
        "#include <iostream>\n",
        "\n",
        "using namespace std;\n",
        "\n",
        "int main (int argc, char** argv)\n",
        "{\n",
        "    MPI_Init(&argc, &argv);\n",
        "    int rank,size,m;\n",
        "    float x;\n",
        "    char *cadena = argv[2];\n",
        "\n",
        "    if(argc!=4){\n",
        "      cout << \"se requiere de un argumento\" << endl;\n",
        "      MPI_Finalize();\n",
        "      return 1;\n",
        "    }\n",
        "    m = atoi(argv[1]);\n",
        "    x = atof(argv[3]);\n",
        "\n",
        "\n",
        "    MPI_Comm_size(MPI_COMM_WORLD, &size); // Numero total de procesos\n",
        "    MPI_Comm_rank(MPI_COMM_WORLD, &rank); // Valor de nuestro identificador\n",
        "\n",
        "    if(rank!=0)\n",
        "\t    cout <<\"\\t Soy el proceso = \" << rank <<\" de \" << size <<endl;\n",
        "    else\n",
        "      cout << \"Soy el \" << rank << \" y recibi el argumento \" << m << \", '\"<< cadena << \"' y \" << x << endl;\n",
        "\n",
        "    MPI_Finalize(); \n",
        "    return 0;\n",
        "}\n"
      ],
      "execution_count": null,
      "outputs": [
        {
          "output_type": "stream",
          "text": [
            "Overwriting saludo_args.cpp\n"
          ],
          "name": "stdout"
        }
      ]
    },
    {
      "cell_type": "code",
      "metadata": {
        "id": "GS_nPJwzLZSu",
        "colab": {
          "base_uri": "https://localhost:8080/"
        },
        "outputId": "70c697a9-3a26-4ea9-ad54-247fc54d33ee"
      },
      "source": [
        "%%script bash\n",
        "mpicxx  saludo_args.cpp -o saludo_args\n",
        "mpirun --allow-run-as-root -np 5 saludo_args  8 \"La UniSon rifa\" 2.1"
      ],
      "execution_count": null,
      "outputs": [
        {
          "output_type": "stream",
          "text": [
            "\t Soy el proceso = 1 de 5\n",
            "\t Soy el proceso = 3 de 5\n",
            "\t Soy el proceso = 4 de 5\n",
            "Soy el 0 y recibi el argumento 8, 'La UniSon rifa' y 2.1\n",
            "\t Soy el proceso = 2 de 5\n"
          ],
          "name": "stdout"
        }
      ]
    },
    {
      "cell_type": "markdown",
      "metadata": {
        "id": "37YVeleToS57"
      },
      "source": [
        "## PYTHON"
      ]
    },
    {
      "cell_type": "code",
      "metadata": {
        "colab": {
          "base_uri": "https://localhost:8080/"
        },
        "id": "c5muh7g9i41J",
        "outputId": "143455f2-1aa3-40a4-a137-17fa318349da"
      },
      "source": [
        "!pip install mpi4py"
      ],
      "execution_count": null,
      "outputs": [
        {
          "output_type": "stream",
          "text": [
            "Collecting mpi4py\n",
            "  Downloading mpi4py-3.1.1.tar.gz (2.4 MB)\n",
            "\u001b[?25l\r\u001b[K     |▏                               | 10 kB 38.2 MB/s eta 0:00:01\r\u001b[K     |▎                               | 20 kB 18.9 MB/s eta 0:00:01\r\u001b[K     |▍                               | 30 kB 18.1 MB/s eta 0:00:01\r\u001b[K     |▌                               | 40 kB 15.7 MB/s eta 0:00:01\r\u001b[K     |▊                               | 51 kB 8.7 MB/s eta 0:00:01\r\u001b[K     |▉                               | 61 kB 8.4 MB/s eta 0:00:01\r\u001b[K     |█                               | 71 kB 8.2 MB/s eta 0:00:01\r\u001b[K     |█                               | 81 kB 9.2 MB/s eta 0:00:01\r\u001b[K     |█▏                              | 92 kB 9.6 MB/s eta 0:00:01\r\u001b[K     |█▍                              | 102 kB 7.5 MB/s eta 0:00:01\r\u001b[K     |█▌                              | 112 kB 7.5 MB/s eta 0:00:01\r\u001b[K     |█▋                              | 122 kB 7.5 MB/s eta 0:00:01\r\u001b[K     |█▊                              | 133 kB 7.5 MB/s eta 0:00:01\r\u001b[K     |█▉                              | 143 kB 7.5 MB/s eta 0:00:01\r\u001b[K     |██                              | 153 kB 7.5 MB/s eta 0:00:01\r\u001b[K     |██▏                             | 163 kB 7.5 MB/s eta 0:00:01\r\u001b[K     |██▎                             | 174 kB 7.5 MB/s eta 0:00:01\r\u001b[K     |██▍                             | 184 kB 7.5 MB/s eta 0:00:01\r\u001b[K     |██▌                             | 194 kB 7.5 MB/s eta 0:00:01\r\u001b[K     |██▊                             | 204 kB 7.5 MB/s eta 0:00:01\r\u001b[K     |██▉                             | 215 kB 7.5 MB/s eta 0:00:01\r\u001b[K     |███                             | 225 kB 7.5 MB/s eta 0:00:01\r\u001b[K     |███                             | 235 kB 7.5 MB/s eta 0:00:01\r\u001b[K     |███▏                            | 245 kB 7.5 MB/s eta 0:00:01\r\u001b[K     |███▍                            | 256 kB 7.5 MB/s eta 0:00:01\r\u001b[K     |███▌                            | 266 kB 7.5 MB/s eta 0:00:01\r\u001b[K     |███▋                            | 276 kB 7.5 MB/s eta 0:00:01\r\u001b[K     |███▊                            | 286 kB 7.5 MB/s eta 0:00:01\r\u001b[K     |███▉                            | 296 kB 7.5 MB/s eta 0:00:01\r\u001b[K     |████                            | 307 kB 7.5 MB/s eta 0:00:01\r\u001b[K     |████▏                           | 317 kB 7.5 MB/s eta 0:00:01\r\u001b[K     |████▎                           | 327 kB 7.5 MB/s eta 0:00:01\r\u001b[K     |████▍                           | 337 kB 7.5 MB/s eta 0:00:01\r\u001b[K     |████▌                           | 348 kB 7.5 MB/s eta 0:00:01\r\u001b[K     |████▊                           | 358 kB 7.5 MB/s eta 0:00:01\r\u001b[K     |████▉                           | 368 kB 7.5 MB/s eta 0:00:01\r\u001b[K     |█████                           | 378 kB 7.5 MB/s eta 0:00:01\r\u001b[K     |█████                           | 389 kB 7.5 MB/s eta 0:00:01\r\u001b[K     |█████▏                          | 399 kB 7.5 MB/s eta 0:00:01\r\u001b[K     |█████▍                          | 409 kB 7.5 MB/s eta 0:00:01\r\u001b[K     |█████▌                          | 419 kB 7.5 MB/s eta 0:00:01\r\u001b[K     |█████▋                          | 430 kB 7.5 MB/s eta 0:00:01\r\u001b[K     |█████▊                          | 440 kB 7.5 MB/s eta 0:00:01\r\u001b[K     |█████▉                          | 450 kB 7.5 MB/s eta 0:00:01\r\u001b[K     |██████                          | 460 kB 7.5 MB/s eta 0:00:01\r\u001b[K     |██████▏                         | 471 kB 7.5 MB/s eta 0:00:01\r\u001b[K     |██████▎                         | 481 kB 7.5 MB/s eta 0:00:01\r\u001b[K     |██████▍                         | 491 kB 7.5 MB/s eta 0:00:01\r\u001b[K     |██████▋                         | 501 kB 7.5 MB/s eta 0:00:01\r\u001b[K     |██████▊                         | 512 kB 7.5 MB/s eta 0:00:01\r\u001b[K     |██████▉                         | 522 kB 7.5 MB/s eta 0:00:01\r\u001b[K     |███████                         | 532 kB 7.5 MB/s eta 0:00:01\r\u001b[K     |███████                         | 542 kB 7.5 MB/s eta 0:00:01\r\u001b[K     |███████▎                        | 552 kB 7.5 MB/s eta 0:00:01\r\u001b[K     |███████▍                        | 563 kB 7.5 MB/s eta 0:00:01\r\u001b[K     |███████▌                        | 573 kB 7.5 MB/s eta 0:00:01\r\u001b[K     |███████▋                        | 583 kB 7.5 MB/s eta 0:00:01\r\u001b[K     |███████▊                        | 593 kB 7.5 MB/s eta 0:00:01\r\u001b[K     |████████                        | 604 kB 7.5 MB/s eta 0:00:01\r\u001b[K     |████████                        | 614 kB 7.5 MB/s eta 0:00:01\r\u001b[K     |████████▏                       | 624 kB 7.5 MB/s eta 0:00:01\r\u001b[K     |████████▎                       | 634 kB 7.5 MB/s eta 0:00:01\r\u001b[K     |████████▍                       | 645 kB 7.5 MB/s eta 0:00:01\r\u001b[K     |████████▋                       | 655 kB 7.5 MB/s eta 0:00:01\r\u001b[K     |████████▊                       | 665 kB 7.5 MB/s eta 0:00:01\r\u001b[K     |████████▉                       | 675 kB 7.5 MB/s eta 0:00:01\r\u001b[K     |█████████                       | 686 kB 7.5 MB/s eta 0:00:01\r\u001b[K     |█████████                       | 696 kB 7.5 MB/s eta 0:00:01\r\u001b[K     |█████████▎                      | 706 kB 7.5 MB/s eta 0:00:01\r\u001b[K     |█████████▍                      | 716 kB 7.5 MB/s eta 0:00:01\r\u001b[K     |█████████▌                      | 727 kB 7.5 MB/s eta 0:00:01\r\u001b[K     |█████████▋                      | 737 kB 7.5 MB/s eta 0:00:01\r\u001b[K     |█████████▊                      | 747 kB 7.5 MB/s eta 0:00:01\r\u001b[K     |██████████                      | 757 kB 7.5 MB/s eta 0:00:01\r\u001b[K     |██████████                      | 768 kB 7.5 MB/s eta 0:00:01\r\u001b[K     |██████████▏                     | 778 kB 7.5 MB/s eta 0:00:01\r\u001b[K     |██████████▎                     | 788 kB 7.5 MB/s eta 0:00:01\r\u001b[K     |██████████▍                     | 798 kB 7.5 MB/s eta 0:00:01\r\u001b[K     |██████████▋                     | 808 kB 7.5 MB/s eta 0:00:01\r\u001b[K     |██████████▊                     | 819 kB 7.5 MB/s eta 0:00:01\r\u001b[K     |██████████▉                     | 829 kB 7.5 MB/s eta 0:00:01\r\u001b[K     |███████████                     | 839 kB 7.5 MB/s eta 0:00:01\r\u001b[K     |███████████                     | 849 kB 7.5 MB/s eta 0:00:01\r\u001b[K     |███████████▎                    | 860 kB 7.5 MB/s eta 0:00:01\r\u001b[K     |███████████▍                    | 870 kB 7.5 MB/s eta 0:00:01\r\u001b[K     |███████████▌                    | 880 kB 7.5 MB/s eta 0:00:01\r\u001b[K     |███████████▋                    | 890 kB 7.5 MB/s eta 0:00:01\r\u001b[K     |███████████▊                    | 901 kB 7.5 MB/s eta 0:00:01\r\u001b[K     |████████████                    | 911 kB 7.5 MB/s eta 0:00:01\r\u001b[K     |████████████                    | 921 kB 7.5 MB/s eta 0:00:01\r\u001b[K     |████████████▏                   | 931 kB 7.5 MB/s eta 0:00:01\r\u001b[K     |████████████▎                   | 942 kB 7.5 MB/s eta 0:00:01\r\u001b[K     |████████████▌                   | 952 kB 7.5 MB/s eta 0:00:01\r\u001b[K     |████████████▋                   | 962 kB 7.5 MB/s eta 0:00:01\r\u001b[K     |████████████▊                   | 972 kB 7.5 MB/s eta 0:00:01\r\u001b[K     |████████████▉                   | 983 kB 7.5 MB/s eta 0:00:01\r\u001b[K     |█████████████                   | 993 kB 7.5 MB/s eta 0:00:01\r\u001b[K     |█████████████▏                  | 1.0 MB 7.5 MB/s eta 0:00:01\r\u001b[K     |█████████████▎                  | 1.0 MB 7.5 MB/s eta 0:00:01\r\u001b[K     |█████████████▍                  | 1.0 MB 7.5 MB/s eta 0:00:01\r\u001b[K     |█████████████▌                  | 1.0 MB 7.5 MB/s eta 0:00:01\r\u001b[K     |█████████████▋                  | 1.0 MB 7.5 MB/s eta 0:00:01\r\u001b[K     |█████████████▉                  | 1.1 MB 7.5 MB/s eta 0:00:01\r\u001b[K     |██████████████                  | 1.1 MB 7.5 MB/s eta 0:00:01\r\u001b[K     |██████████████                  | 1.1 MB 7.5 MB/s eta 0:00:01\r\u001b[K     |██████████████▏                 | 1.1 MB 7.5 MB/s eta 0:00:01\r\u001b[K     |██████████████▎                 | 1.1 MB 7.5 MB/s eta 0:00:01\r\u001b[K     |██████████████▌                 | 1.1 MB 7.5 MB/s eta 0:00:01\r\u001b[K     |██████████████▋                 | 1.1 MB 7.5 MB/s eta 0:00:01\r\u001b[K     |██████████████▊                 | 1.1 MB 7.5 MB/s eta 0:00:01\r\u001b[K     |██████████████▉                 | 1.1 MB 7.5 MB/s eta 0:00:01\r\u001b[K     |███████████████                 | 1.1 MB 7.5 MB/s eta 0:00:01\r\u001b[K     |███████████████▏                | 1.2 MB 7.5 MB/s eta 0:00:01\r\u001b[K     |███████████████▎                | 1.2 MB 7.5 MB/s eta 0:00:01\r\u001b[K     |███████████████▍                | 1.2 MB 7.5 MB/s eta 0:00:01\r\u001b[K     |███████████████▌                | 1.2 MB 7.5 MB/s eta 0:00:01\r\u001b[K     |███████████████▋                | 1.2 MB 7.5 MB/s eta 0:00:01\r\u001b[K     |███████████████▉                | 1.2 MB 7.5 MB/s eta 0:00:01\r\u001b[K     |████████████████                | 1.2 MB 7.5 MB/s eta 0:00:01\r\u001b[K     |████████████████                | 1.2 MB 7.5 MB/s eta 0:00:01\r\u001b[K     |████████████████▏               | 1.2 MB 7.5 MB/s eta 0:00:01\r\u001b[K     |████████████████▎               | 1.2 MB 7.5 MB/s eta 0:00:01\r\u001b[K     |████████████████▌               | 1.3 MB 7.5 MB/s eta 0:00:01\r\u001b[K     |████████████████▋               | 1.3 MB 7.5 MB/s eta 0:00:01\r\u001b[K     |████████████████▊               | 1.3 MB 7.5 MB/s eta 0:00:01\r\u001b[K     |████████████████▉               | 1.3 MB 7.5 MB/s eta 0:00:01\r\u001b[K     |█████████████████               | 1.3 MB 7.5 MB/s eta 0:00:01\r\u001b[K     |█████████████████▏              | 1.3 MB 7.5 MB/s eta 0:00:01\r\u001b[K     |█████████████████▎              | 1.3 MB 7.5 MB/s eta 0:00:01\r\u001b[K     |█████████████████▍              | 1.3 MB 7.5 MB/s eta 0:00:01\r\u001b[K     |█████████████████▌              | 1.3 MB 7.5 MB/s eta 0:00:01\r\u001b[K     |█████████████████▋              | 1.4 MB 7.5 MB/s eta 0:00:01\r\u001b[K     |█████████████████▉              | 1.4 MB 7.5 MB/s eta 0:00:01\r\u001b[K     |██████████████████              | 1.4 MB 7.5 MB/s eta 0:00:01\r\u001b[K     |██████████████████              | 1.4 MB 7.5 MB/s eta 0:00:01\r\u001b[K     |██████████████████▏             | 1.4 MB 7.5 MB/s eta 0:00:01\r\u001b[K     |██████████████████▎             | 1.4 MB 7.5 MB/s eta 0:00:01\r\u001b[K     |██████████████████▌             | 1.4 MB 7.5 MB/s eta 0:00:01\r\u001b[K     |██████████████████▋             | 1.4 MB 7.5 MB/s eta 0:00:01\r\u001b[K     |██████████████████▊             | 1.4 MB 7.5 MB/s eta 0:00:01\r\u001b[K     |██████████████████▉             | 1.4 MB 7.5 MB/s eta 0:00:01\r\u001b[K     |███████████████████             | 1.5 MB 7.5 MB/s eta 0:00:01\r\u001b[K     |███████████████████▏            | 1.5 MB 7.5 MB/s eta 0:00:01\r\u001b[K     |███████████████████▎            | 1.5 MB 7.5 MB/s eta 0:00:01\r\u001b[K     |███████████████████▍            | 1.5 MB 7.5 MB/s eta 0:00:01\r\u001b[K     |███████████████████▌            | 1.5 MB 7.5 MB/s eta 0:00:01\r\u001b[K     |███████████████████▊            | 1.5 MB 7.5 MB/s eta 0:00:01\r\u001b[K     |███████████████████▉            | 1.5 MB 7.5 MB/s eta 0:00:01\r\u001b[K     |████████████████████            | 1.5 MB 7.5 MB/s eta 0:00:01\r\u001b[K     |████████████████████            | 1.5 MB 7.5 MB/s eta 0:00:01\r\u001b[K     |████████████████████▏           | 1.5 MB 7.5 MB/s eta 0:00:01\r\u001b[K     |████████████████████▍           | 1.6 MB 7.5 MB/s eta 0:00:01\r\u001b[K     |████████████████████▌           | 1.6 MB 7.5 MB/s eta 0:00:01\r\u001b[K     |████████████████████▋           | 1.6 MB 7.5 MB/s eta 0:00:01\r\u001b[K     |████████████████████▊           | 1.6 MB 7.5 MB/s eta 0:00:01\r\u001b[K     |████████████████████▉           | 1.6 MB 7.5 MB/s eta 0:00:01\r\u001b[K     |█████████████████████           | 1.6 MB 7.5 MB/s eta 0:00:01\r\u001b[K     |█████████████████████▏          | 1.6 MB 7.5 MB/s eta 0:00:01\r\u001b[K     |█████████████████████▎          | 1.6 MB 7.5 MB/s eta 0:00:01\r\u001b[K     |█████████████████████▍          | 1.6 MB 7.5 MB/s eta 0:00:01\r\u001b[K     |█████████████████████▌          | 1.6 MB 7.5 MB/s eta 0:00:01\r\u001b[K     |█████████████████████▊          | 1.7 MB 7.5 MB/s eta 0:00:01\r\u001b[K     |█████████████████████▉          | 1.7 MB 7.5 MB/s eta 0:00:01\r\u001b[K     |██████████████████████          | 1.7 MB 7.5 MB/s eta 0:00:01\r\u001b[K     |██████████████████████          | 1.7 MB 7.5 MB/s eta 0:00:01\r\u001b[K     |██████████████████████▏         | 1.7 MB 7.5 MB/s eta 0:00:01\r\u001b[K     |██████████████████████▍         | 1.7 MB 7.5 MB/s eta 0:00:01\r\u001b[K     |██████████████████████▌         | 1.7 MB 7.5 MB/s eta 0:00:01\r\u001b[K     |██████████████████████▋         | 1.7 MB 7.5 MB/s eta 0:00:01\r\u001b[K     |██████████████████████▊         | 1.7 MB 7.5 MB/s eta 0:00:01\r\u001b[K     |██████████████████████▉         | 1.8 MB 7.5 MB/s eta 0:00:01\r\u001b[K     |███████████████████████         | 1.8 MB 7.5 MB/s eta 0:00:01\r\u001b[K     |███████████████████████▏        | 1.8 MB 7.5 MB/s eta 0:00:01\r\u001b[K     |███████████████████████▎        | 1.8 MB 7.5 MB/s eta 0:00:01\r\u001b[K     |███████████████████████▍        | 1.8 MB 7.5 MB/s eta 0:00:01\r\u001b[K     |███████████████████████▌        | 1.8 MB 7.5 MB/s eta 0:00:01\r\u001b[K     |███████████████████████▊        | 1.8 MB 7.5 MB/s eta 0:00:01\r\u001b[K     |███████████████████████▉        | 1.8 MB 7.5 MB/s eta 0:00:01\r\u001b[K     |████████████████████████        | 1.8 MB 7.5 MB/s eta 0:00:01\r\u001b[K     |████████████████████████        | 1.8 MB 7.5 MB/s eta 0:00:01\r\u001b[K     |████████████████████████▏       | 1.9 MB 7.5 MB/s eta 0:00:01\r\u001b[K     |████████████████████████▍       | 1.9 MB 7.5 MB/s eta 0:00:01\r\u001b[K     |████████████████████████▌       | 1.9 MB 7.5 MB/s eta 0:00:01\r\u001b[K     |████████████████████████▋       | 1.9 MB 7.5 MB/s eta 0:00:01\r\u001b[K     |████████████████████████▊       | 1.9 MB 7.5 MB/s eta 0:00:01\r\u001b[K     |█████████████████████████       | 1.9 MB 7.5 MB/s eta 0:00:01\r\u001b[K     |█████████████████████████       | 1.9 MB 7.5 MB/s eta 0:00:01\r\u001b[K     |█████████████████████████▏      | 1.9 MB 7.5 MB/s eta 0:00:01\r\u001b[K     |█████████████████████████▎      | 1.9 MB 7.5 MB/s eta 0:00:01\r\u001b[K     |█████████████████████████▍      | 1.9 MB 7.5 MB/s eta 0:00:01\r\u001b[K     |█████████████████████████▋      | 2.0 MB 7.5 MB/s eta 0:00:01\r\u001b[K     |█████████████████████████▊      | 2.0 MB 7.5 MB/s eta 0:00:01\r\u001b[K     |█████████████████████████▉      | 2.0 MB 7.5 MB/s eta 0:00:01\r\u001b[K     |██████████████████████████      | 2.0 MB 7.5 MB/s eta 0:00:01\r\u001b[K     |██████████████████████████      | 2.0 MB 7.5 MB/s eta 0:00:01\r\u001b[K     |██████████████████████████▎     | 2.0 MB 7.5 MB/s eta 0:00:01\r\u001b[K     |██████████████████████████▍     | 2.0 MB 7.5 MB/s eta 0:00:01\r\u001b[K     |██████████████████████████▌     | 2.0 MB 7.5 MB/s eta 0:00:01\r\u001b[K     |██████████████████████████▋     | 2.0 MB 7.5 MB/s eta 0:00:01\r\u001b[K     |██████████████████████████▊     | 2.0 MB 7.5 MB/s eta 0:00:01\r\u001b[K     |███████████████████████████     | 2.1 MB 7.5 MB/s eta 0:00:01\r\u001b[K     |███████████████████████████     | 2.1 MB 7.5 MB/s eta 0:00:01\r\u001b[K     |███████████████████████████▏    | 2.1 MB 7.5 MB/s eta 0:00:01\r\u001b[K     |███████████████████████████▎    | 2.1 MB 7.5 MB/s eta 0:00:01\r\u001b[K     |███████████████████████████▍    | 2.1 MB 7.5 MB/s eta 0:00:01\r\u001b[K     |███████████████████████████▋    | 2.1 MB 7.5 MB/s eta 0:00:01\r\u001b[K     |███████████████████████████▊    | 2.1 MB 7.5 MB/s eta 0:00:01\r\u001b[K     |███████████████████████████▉    | 2.1 MB 7.5 MB/s eta 0:00:01\r\u001b[K     |████████████████████████████    | 2.1 MB 7.5 MB/s eta 0:00:01\r\u001b[K     |████████████████████████████    | 2.2 MB 7.5 MB/s eta 0:00:01\r\u001b[K     |████████████████████████████▎   | 2.2 MB 7.5 MB/s eta 0:00:01\r\u001b[K     |████████████████████████████▍   | 2.2 MB 7.5 MB/s eta 0:00:01\r\u001b[K     |████████████████████████████▌   | 2.2 MB 7.5 MB/s eta 0:00:01\r\u001b[K     |████████████████████████████▋   | 2.2 MB 7.5 MB/s eta 0:00:01\r\u001b[K     |████████████████████████████▊   | 2.2 MB 7.5 MB/s eta 0:00:01\r\u001b[K     |█████████████████████████████   | 2.2 MB 7.5 MB/s eta 0:00:01\r\u001b[K     |█████████████████████████████   | 2.2 MB 7.5 MB/s eta 0:00:01\r\u001b[K     |█████████████████████████████▏  | 2.2 MB 7.5 MB/s eta 0:00:01\r\u001b[K     |█████████████████████████████▎  | 2.2 MB 7.5 MB/s eta 0:00:01\r\u001b[K     |█████████████████████████████▍  | 2.3 MB 7.5 MB/s eta 0:00:01\r\u001b[K     |█████████████████████████████▋  | 2.3 MB 7.5 MB/s eta 0:00:01\r\u001b[K     |█████████████████████████████▊  | 2.3 MB 7.5 MB/s eta 0:00:01\r\u001b[K     |█████████████████████████████▉  | 2.3 MB 7.5 MB/s eta 0:00:01\r\u001b[K     |██████████████████████████████  | 2.3 MB 7.5 MB/s eta 0:00:01\r\u001b[K     |██████████████████████████████  | 2.3 MB 7.5 MB/s eta 0:00:01\r\u001b[K     |██████████████████████████████▎ | 2.3 MB 7.5 MB/s eta 0:00:01\r\u001b[K     |██████████████████████████████▍ | 2.3 MB 7.5 MB/s eta 0:00:01\r\u001b[K     |██████████████████████████████▌ | 2.3 MB 7.5 MB/s eta 0:00:01\r\u001b[K     |██████████████████████████████▋ | 2.3 MB 7.5 MB/s eta 0:00:01\r\u001b[K     |██████████████████████████████▉ | 2.4 MB 7.5 MB/s eta 0:00:01\r\u001b[K     |███████████████████████████████ | 2.4 MB 7.5 MB/s eta 0:00:01\r\u001b[K     |███████████████████████████████ | 2.4 MB 7.5 MB/s eta 0:00:01\r\u001b[K     |███████████████████████████████▏| 2.4 MB 7.5 MB/s eta 0:00:01\r\u001b[K     |███████████████████████████████▎| 2.4 MB 7.5 MB/s eta 0:00:01\r\u001b[K     |███████████████████████████████▌| 2.4 MB 7.5 MB/s eta 0:00:01\r\u001b[K     |███████████████████████████████▋| 2.4 MB 7.5 MB/s eta 0:00:01\r\u001b[K     |███████████████████████████████▊| 2.4 MB 7.5 MB/s eta 0:00:01\r\u001b[K     |███████████████████████████████▉| 2.4 MB 7.5 MB/s eta 0:00:01\r\u001b[K     |████████████████████████████████| 2.4 MB 7.5 MB/s eta 0:00:01\r\u001b[K     |████████████████████████████████| 2.4 MB 7.5 MB/s \n",
            "\u001b[?25h  Installing build dependencies ... \u001b[?25l\u001b[?25hdone\n",
            "  Getting requirements to build wheel ... \u001b[?25l\u001b[?25hdone\n",
            "    Preparing wheel metadata ... \u001b[?25l\u001b[?25hdone\n",
            "Building wheels for collected packages: mpi4py\n",
            "  Building wheel for mpi4py (PEP 517) ... \u001b[?25l\u001b[?25hdone\n",
            "  Created wheel for mpi4py: filename=mpi4py-3.1.1-cp37-cp37m-linux_x86_64.whl size=2180592 sha256=e565e10ce469716c1b340bba1f9de0114189a8b7f94573c57ca37c0ceb442236\n",
            "  Stored in directory: /root/.cache/pip/wheels/91/be/c0/2b0347be1de5cd8ca9fe67da7ec8c3fe8930fcb6b0df6f2255\n",
            "Successfully built mpi4py\n",
            "Installing collected packages: mpi4py\n",
            "Successfully installed mpi4py-3.1.1\n"
          ],
          "name": "stdout"
        }
      ]
    },
    {
      "cell_type": "code",
      "metadata": {
        "id": "Xy2TfcV5Mo9F",
        "colab": {
          "base_uri": "https://localhost:8080/"
        },
        "outputId": "764f1d7f-87e3-46b1-df9b-de9a3e944438"
      },
      "source": [
        "%%writefile saludo_args.py\n",
        "from mpi4py import MPI\n",
        "import sys\n",
        "\n",
        "comm = MPI.COMM_WORLD\n",
        "rank = comm.Get_rank()\n",
        "size = comm.Get_size()\n",
        "\n",
        "if(len(sys.argv)!=4):\n",
        "  print(\"se requiere de un argumento\")\n",
        "  sys.exit()\n",
        "\n",
        "\n",
        "m = int(sys.argv[1])\n",
        "cadena = sys.argv[2]\n",
        "x = float(sys.argv[3])\n",
        "\n",
        "if(rank!=0):\n",
        "  print(\"\\t Soy el proceso =\",rank,\"de\", size)\n",
        "if(rank==0):\n",
        "  print(\"Soy el\",rank, \"y recibi el argumento\",m, \", '\",cadena, \"' y \",x)\n"
      ],
      "execution_count": null,
      "outputs": [
        {
          "output_type": "stream",
          "text": [
            "Writing saludo_args.py\n"
          ],
          "name": "stdout"
        }
      ]
    },
    {
      "cell_type": "code",
      "metadata": {
        "colab": {
          "base_uri": "https://localhost:8080/"
        },
        "id": "bgZq98VYM8-c",
        "outputId": "2c4eeed9-7be6-4ff0-93c8-07863a7afa8a"
      },
      "source": [
        "%%script bash\n",
        "mpiexec -allow-run-as-root -n 5 python saludo_args.py  8 \"La UniSon rifa\" 2.1"
      ],
      "execution_count": null,
      "outputs": [
        {
          "output_type": "stream",
          "text": [
            "\t Soy el proceso = 2 de 5\n",
            "\t Soy el proceso = 3 de 5\n",
            "\t Soy el proceso = 1 de 5\n",
            "Soy el 0 y recibi el argumento 8 , ' La UniSon rifa ' y  2.1\n",
            "\t Soy el proceso = 4 de 5\n"
          ],
          "name": "stdout"
        }
      ]
    },
    {
      "cell_type": "markdown",
      "metadata": {
        "id": "EjoQ2-tzkYK1"
      },
      "source": [
        "##FORTRAN"
      ]
    },
    {
      "cell_type": "code",
      "metadata": {
        "colab": {
          "base_uri": "https://localhost:8080/"
        },
        "id": "0MpX8FpIkbfL",
        "outputId": "c9e8374f-3fe1-4a3e-ae8a-d18aad9a03a4"
      },
      "source": [
        "%%writefile saludo_args.f90\n",
        "PROGRAM SALUDO_ARGS\n",
        "  USE MPI\n",
        "\n",
        "  CHARACTER(len=32)  arg\n",
        "  INTEGER  rank, size, ierror, count, i\n",
        "\n",
        "  CALL MPI_INIT(ierror)\n",
        "  CALL MPI_COMM_SIZE(MPI_COMM_WORLD,size,ierror)\n",
        "  CALL MPI_COMM_RANK(MPI_COMM_WORLD,rank,ierror)\n",
        "  \n",
        "  IF (COMMAND_ARGUMENT_COUNT().EQ.3) THEN\n",
        "      IF (rank.EQ.0) THEN\n",
        "        WRITE (*,fmt=\"(1x,a,i0)\", advance=\"no\") \"Soy el proceso 0 y recibí los argumentos:\"\n",
        "        DO i = 1, iargc()\n",
        "          CALL getarg(i, arg)\n",
        "          WRITE (*,10, advance=\"no\")  arg\n",
        "          10 FORMAT (1x,a,i0)\n",
        "        END DO\n",
        "      ELSE\n",
        "        WRITE (*,*) \"Soy el proceso \", rank, \"de \", size\n",
        "    END IF\n",
        "  ELSE\n",
        "    WRITE (*,*) \"Se requiere de 3 argumentos\"\n",
        "    CALL MPI_FINALIZE(ierror)\n",
        "    STOP   \n",
        "  END IF\n",
        "  CALL MPI_FINALIZE(ierror)\n",
        "END PROGRAM"
      ],
      "execution_count": null,
      "outputs": [
        {
          "output_type": "stream",
          "text": [
            "Writing saludo_args.f90\n"
          ],
          "name": "stdout"
        }
      ]
    },
    {
      "cell_type": "code",
      "metadata": {
        "id": "MvumuF4svgq_",
        "colab": {
          "base_uri": "https://localhost:8080/"
        },
        "outputId": "a26e6352-b67f-4f9c-a35e-7489a1ae2add"
      },
      "source": [
        "%%script bash\n",
        "mpif90 saludo_args.f90 -o saludo_args\n",
        "mpirun --allow-run-as-root -np 5 saludo_args  8 \"La UniSon rifa\" 2.1"
      ],
      "execution_count": null,
      "outputs": [
        {
          "output_type": "stream",
          "text": [
            " Soy el proceso            3 de            5\n",
            " Soy el proceso            2 de            5\n",
            " Soy el proceso            1 de            5\n",
            " Soy el proceso            4 de            5\n",
            " Soy el proceso 0 y recibí los argumentos: 8                                La UniSon rifa                   2.1                             "
          ],
          "name": "stdout"
        }
      ]
    },
    {
      "cell_type": "markdown",
      "metadata": {
        "id": "1M69kTzdau9i"
      },
      "source": [
        "[Regreso al índice](https://colab.research.google.com/drive/1FkTDokPR8tsXMH9PKeEi6Fvdd3tzqIkz)"
      ]
    },
    {
      "cell_type": "markdown",
      "metadata": {
        "id": "6Tg4y2TEY4K2"
      },
      "source": [
        "# Ejemplo3. Midiendo Tiempos"
      ]
    },
    {
      "cell_type": "markdown",
      "metadata": {
        "id": "u1yUOq7tl1Hm"
      },
      "source": [
        "## MPI_WTIME()"
      ]
    },
    {
      "cell_type": "markdown",
      "metadata": {
        "id": "sm2lLvhVQdwp"
      },
      "source": [
        "##C"
      ]
    },
    {
      "cell_type": "code",
      "metadata": {
        "colab": {
          "base_uri": "https://localhost:8080/"
        },
        "id": "fKdxCNYcpvMj",
        "outputId": "f7ecbb48-c4b7-4782-c9cc-3ec34f9bd5f3"
      },
      "source": [
        "%%writefile midiendotiempo.c\n",
        "\n",
        "#include \"mpi.h\"\n",
        "#include <stdio.h>\n",
        "#include <unistd.h>\n",
        "\n",
        "int main( ){\n",
        "    double t1, t2;\n",
        "    int rank,size;\n",
        "\n",
        "    MPI_Init( NULL, NULL );\n",
        "    MPI_Comm_size(MPI_COMM_WORLD, &size);\n",
        "    MPI_Comm_rank(MPI_COMM_WORLD, &rank);\n",
        "\n",
        "    MPI_Barrier(MPI_COMM_WORLD);\n",
        "    t1 = MPI_Wtime();\n",
        "\n",
        "    sleep(3); // espera por un tiempo en segundos\n",
        "\n",
        "    MPI_Barrier(MPI_COMM_WORLD);\n",
        "    t2 = MPI_Wtime();\n",
        "\n",
        "    if(rank==0)\n",
        "       printf(\"MPI_Wtime measured a 3 second sleep to be: %.10f segundos \\n\", t2-t1);\n",
        "\n",
        "    MPI_Finalize( );\n",
        "    return 0;\n",
        "}"
      ],
      "execution_count": null,
      "outputs": [
        {
          "output_type": "stream",
          "name": "stdout",
          "text": [
            "Writing midiendotiempo.c\n"
          ]
        }
      ]
    },
    {
      "cell_type": "code",
      "metadata": {
        "colab": {
          "base_uri": "https://localhost:8080/"
        },
        "id": "j3n7ORoUp0Ea",
        "outputId": "4b0dd218-9e16-4cf6-d9cb-cb8c8fd1763c"
      },
      "source": [
        "%%script bash\n",
        "mpicc midiendotiempo.c -o tiempos\n",
        "mpirun --allow-run-as-root -np 5 tiempos"
      ],
      "execution_count": null,
      "outputs": [
        {
          "output_type": "stream",
          "name": "stdout",
          "text": [
            "MPI_Wtime measured a 3 second sleep to be: 3.0006683080 segundos \n"
          ]
        }
      ]
    },
    {
      "cell_type": "markdown",
      "metadata": {
        "id": "XdGEFWDbQb1X"
      },
      "source": [
        "##C++"
      ]
    },
    {
      "cell_type": "code",
      "metadata": {
        "colab": {
          "base_uri": "https://localhost:8080/"
        },
        "id": "79EEYFdGQg3H",
        "outputId": "9d18d44e-67fb-4456-bd6d-ab822e3183e6"
      },
      "source": [
        "%%writefile midiendotiempo.cpp\n",
        "\n",
        "#include <cstdlib>\n",
        "#include <mpi.h>\n",
        "#include <iostream>\n",
        "#include <unistd.h>\n",
        "#include <iomanip>\n",
        "\n",
        "using namespace std;\n",
        "\n",
        "int main( ){\n",
        "    double t1, t2;\n",
        "    int rank,size;\n",
        "\n",
        "    MPI_Init( NULL, NULL);\n",
        "    MPI_Comm_size(MPI_COMM_WORLD, &size);\n",
        "    MPI_Comm_rank(MPI_COMM_WORLD, &rank);\n",
        "\n",
        "    MPI_Barrier(MPI_COMM_WORLD);\n",
        "    t1 = MPI_Wtime();\n",
        "\n",
        "    sleep(3); // espera por un tiempo en segundos\n",
        "\n",
        "    MPI_Barrier(MPI_COMM_WORLD);\n",
        "    t2 = MPI_Wtime();\n",
        "\n",
        "    if(rank==0)\n",
        "       cout <<\"MPI_Wtime measured a 3 second sleep to be: \" << fixed << setprecision(10) << t2-t1 << \" segundos\" <<endl;\n",
        "\n",
        "    MPI_Finalize( );\n",
        "    return 0;\n",
        "}"
      ],
      "execution_count": null,
      "outputs": [
        {
          "output_type": "stream",
          "text": [
            "Writing midiendotiempo.cpp\n"
          ],
          "name": "stdout"
        }
      ]
    },
    {
      "cell_type": "code",
      "metadata": {
        "colab": {
          "base_uri": "https://localhost:8080/"
        },
        "id": "_wBcJSTiRGDl",
        "outputId": "b4baa2fb-283a-4766-e6ad-efaf959f8d75"
      },
      "source": [
        "%%script bash\n",
        "mpicxx  midiendotiempo.cpp -o tiempos\n",
        "mpirun --allow-run-as-root -np 5 tiempos"
      ],
      "execution_count": null,
      "outputs": [
        {
          "output_type": "stream",
          "text": [
            "MPI_Wtime measured a 3 second sleep to be: 3.0003875790 segundos\n"
          ],
          "name": "stdout"
        }
      ]
    },
    {
      "cell_type": "markdown",
      "metadata": {
        "id": "ZLILrZ62SLck"
      },
      "source": [
        "##PYTHON"
      ]
    },
    {
      "cell_type": "code",
      "metadata": {
        "id": "dFqrECvWi3UM"
      },
      "source": [
        "!pip install mpi4py"
      ],
      "execution_count": null,
      "outputs": []
    },
    {
      "cell_type": "code",
      "metadata": {
        "colab": {
          "base_uri": "https://localhost:8080/"
        },
        "id": "ODgfYd7GSOBZ",
        "outputId": "336bd2de-286e-4ca7-ba11-bfb2434eb0e3"
      },
      "source": [
        "%%writefile midiendotiempo.py\n",
        "from mpi4py import  MPI\n",
        "from time import sleep\n",
        "\n",
        "comm = MPI.COMM_WORLD\n",
        "rank = comm.Get_rank()\n",
        "size = comm.Get_size()\n",
        "\n",
        "comm.Barrier()\n",
        "t1 = MPI.Wtime()\n",
        "\n",
        "sleep(3)\n",
        "\n",
        "comm.Barrier()\n",
        "t2 = MPI.Wtime()\n",
        "\n",
        "if (rank == 0):\n",
        "  print(\"MPI_Wtime measured a 3 second sleep to be: \", t2-t1, \"segundos\")\n"
      ],
      "execution_count": null,
      "outputs": [
        {
          "output_type": "stream",
          "text": [
            "Overwriting midiendotiempo.py\n"
          ],
          "name": "stdout"
        }
      ]
    },
    {
      "cell_type": "code",
      "metadata": {
        "colab": {
          "base_uri": "https://localhost:8080/"
        },
        "id": "xqPkGfTvUd4h",
        "outputId": "38059f4f-524b-4f5c-923d-43fddd4c64a9"
      },
      "source": [
        "%%script bash\n",
        "\n",
        "mpiexec -allow-run-as-root -n 5 python midiendotiempo.py"
      ],
      "execution_count": null,
      "outputs": [
        {
          "output_type": "stream",
          "text": [
            "MPI_Wtime measured a 3 second sleep to be:  3.0039424130000043 segundos\n"
          ],
          "name": "stdout"
        }
      ]
    },
    {
      "cell_type": "markdown",
      "metadata": {
        "id": "wFImkehzqXHG"
      },
      "source": [
        "##FORTRAN"
      ]
    },
    {
      "cell_type": "code",
      "metadata": {
        "colab": {
          "base_uri": "https://localhost:8080/"
        },
        "id": "nFOabidbqYbt",
        "outputId": "1d1d6c43-4307-4db2-8733-ad984fae907a"
      },
      "source": [
        "%%writefile midiendotiempo.f90\n",
        "PROGRAM MIDIENDOTIEMPO\n",
        "    USE MPI\n",
        "    DOUBLE PRECISION t1, t2\n",
        "    INTEGER rank,size, ierror\n",
        "\n",
        "    CALL MPI_INIT(ierror)\n",
        "    CALL MPI_COMM_SIZE(MPI_COMM_WORLD,size,ierror)\n",
        "    CALL MPI_COMM_RANK(MPI_COMM_WORLD,rank,ierror)\n",
        "\n",
        "    CALL MPI_BARRIER(MPI_COMM_WORLD,ierror)\n",
        "    t1 = MPI_WTIME()\n",
        "\n",
        "    CALL SLEEP(3)\n",
        "\n",
        "    CALL MPI_BARRIER(MPI_COMM_WORLD, ierror)\n",
        "    t2 = MPI_WTIME()\n",
        "\n",
        "    IF (rank==0) THEN\n",
        "        WRITE(*,*) \"MPI_Wtime measured a 3 second sleep to be: \" , (t2-t1), \" segundos\"\n",
        "    END IF\n",
        "\n",
        "    CALL MPI_FINALIZE(ierror)\n",
        "END PROGRAM"
      ],
      "execution_count": null,
      "outputs": [
        {
          "output_type": "stream",
          "name": "stdout",
          "text": [
            "Overwriting midiendotiempo.f90\n"
          ]
        }
      ]
    },
    {
      "cell_type": "code",
      "metadata": {
        "colab": {
          "base_uri": "https://localhost:8080/"
        },
        "id": "SU3CzZoDsS8W",
        "outputId": "1235d69a-2d0b-44b8-a6dc-a7e8bbb01799"
      },
      "source": [
        "%%script bash\n",
        "mpif90  midiendotiempo.f90 -o tiempo\n",
        "mpirun --allow-run-as-root -np 4 ./tiempo"
      ],
      "execution_count": null,
      "outputs": [
        {
          "output_type": "stream",
          "name": "stdout",
          "text": [
            " MPI_Wtime measured a 3 second sleep to be:    3.0003086830000143       segundos\n"
          ]
        }
      ]
    },
    {
      "cell_type": "markdown",
      "metadata": {
        "id": "8MkJLdBPar52"
      },
      "source": [
        "[Regreso al índice](https://colab.research.google.com/drive/1FkTDokPR8tsXMH9PKeEi6Fvdd3tzqIkz)"
      ]
    },
    {
      "cell_type": "markdown",
      "metadata": {
        "id": "Uy70yUZoic2u"
      },
      "source": [
        "# Ejemplo4. Versión de MPI"
      ]
    },
    {
      "cell_type": "markdown",
      "metadata": {
        "id": "zIszbXBKktBl"
      },
      "source": [
        "\n",
        "## MPI_GET_VERSION\n",
        "\n",
        "\n",
        "---\n",
        "\n",
        "\n",
        "\n",
        "---\n",
        "\n",
        "Hay dos formas de saber cuál versión de MPI está instalada en la máquina que usamos: 1) llamando a MPI_VERSION() y MPI_SUBVERSION() y, 2)  llamando a MPI_Get_version().\n",
        "\n",
        "[texto del vínculo](https://)\n",
        "\n",
        "\n",
        "\n",
        "\n",
        "![MPI_GET_VERSION.png](data:image/png;base64,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)\n",
        "\n",
        "\n",
        "En C/C++\n",
        "```\n",
        "int MPI_Get_version(int *version, int *subversion)\n",
        "```\n",
        "\n",
        "En Python\n",
        "```\n",
        "version = MPI.Get_version() \n",
        "```\n"
      ]
    },
    {
      "cell_type": "markdown",
      "metadata": {
        "id": "gC84dE0VjgCH"
      },
      "source": [
        "## C"
      ]
    },
    {
      "cell_type": "code",
      "metadata": {
        "colab": {
          "base_uri": "https://localhost:8080/"
        },
        "id": "JVyDNM8ajhmV",
        "outputId": "1a18cfa9-b870-42b8-8b04-382adeb45698"
      },
      "source": [
        "%%writefile ejemplo4_version_mpi.c\n",
        "\n",
        "#include <stdlib.h>\n",
        "#include \"mpi.h\"\n",
        "#include <stdio.h>\n",
        "\n",
        "void main () {\n",
        "    int rank, size;\n",
        "\tint version, subversion, ignorar;\n",
        "    int resultlen;\n",
        "    char vendor[MPI_MAX_LIBRARY_VERSION_STRING];\n",
        "\n",
        "    MPI_Init(NULL, NULL);\n",
        "\n",
        "    MPI_Comm_size(MPI_COMM_WORLD, &size); // Numero total de procesos\n",
        "    MPI_Comm_rank(MPI_COMM_WORLD, &rank); // Valor de nuestro identificador\n",
        "\n",
        "    if(rank==0){\n",
        "\t    printf(\"1) Version mpi= %d.%d \\n\",MPI_VERSION,MPI_SUBVERSION); \n",
        "    \tMPI_Get_version(&version,&subversion);\n",
        "\t    printf(\"2) Version mpi= %d, subversion=%d\\n\",version,subversion);\n",
        "        MPI_Get_library_version(vendor, &ignorar);\n",
        "        printf(\"Implementación: %s\", vendor);\n",
        "    }\n",
        "\n",
        "    MPI_Finalize(); \n",
        "    return ;\n",
        "}"
      ],
      "execution_count": null,
      "outputs": [
        {
          "output_type": "stream",
          "name": "stdout",
          "text": [
            "Writing ejemplo4_version_mpi.c\n"
          ]
        }
      ]
    },
    {
      "cell_type": "code",
      "metadata": {
        "colab": {
          "base_uri": "https://localhost:8080/"
        },
        "id": "lPjmXXCOjhv3",
        "outputId": "79544f7c-12ab-4706-dcd1-9a15e9938cc3"
      },
      "source": [
        "%%script bash\n",
        "mpicc ejemplo4_version_mpi.c -o version\n",
        "mpirun --allow-run-as-root -np 5 version"
      ],
      "execution_count": null,
      "outputs": [
        {
          "output_type": "stream",
          "name": "stdout",
          "text": [
            "1) Version mpi= 3.1 \n",
            "2) Version mpi= 3, subversion=1\n",
            "Implementación: Open MPI v2.1.1, package: Open MPI buildd@lcy01-amd64-009 Distribution, ident: 2.1.1, repo rev: v2.1.0-100-ga2fdb5b, May 10, 2017"
          ]
        }
      ]
    },
    {
      "cell_type": "markdown",
      "metadata": {
        "id": "OIR7RGi9i86v"
      },
      "source": [
        "## C++"
      ]
    },
    {
      "cell_type": "code",
      "metadata": {
        "colab": {
          "base_uri": "https://localhost:8080/"
        },
        "id": "MLvjLi75jH2e",
        "outputId": "a20d50f6-b0a0-4747-f960-e0f46c1a2998"
      },
      "source": [
        "%%writefile ejemplo4_version_mpi.cpp\n",
        "\n",
        "#include <iostream>\n",
        "#include <cstdlib>\n",
        "#include <mpi.h>\n",
        "\n",
        "using namespace std;\n",
        "\n",
        "int main ()\n",
        "{\n",
        "    int rank, size;\n",
        "\t  int version, subversion, ignorar;\n",
        "    char vendor[MPI_MAX_LIBRARY_VERSION_STRING];\n",
        "    MPI_Init(NULL, NULL);\n",
        "\n",
        "    MPI_Comm_size(MPI_COMM_WORLD, &size); // Numero total de procesos\n",
        "    MPI_Comm_rank(MPI_COMM_WORLD, &rank); // Valor de nuestro identificador\n",
        "\n",
        "    if(rank==0){\n",
        "\t    cout << \"1) Version mpi= \" << MPI_VERSION << \".\" << MPI_SUBVERSION << endl; \n",
        "    \tMPI_Get_version(&version,&subversion);\n",
        "\t    cout << \"2) Version mpi= \"<< version <<\", subversion= \" << subversion << endl;\n",
        "\n",
        "      MPI_Get_library_version(vendor, &ignorar);\n",
        "      cout << \"Implementación: \" << vendor;\n",
        "    }\n",
        "\n",
        "    MPI_Finalize(); \n",
        "    return 0;\n",
        "}"
      ],
      "execution_count": null,
      "outputs": [
        {
          "output_type": "stream",
          "text": [
            "Overwriting ejemplo4_version_mpi.cpp\n"
          ],
          "name": "stdout"
        }
      ]
    },
    {
      "cell_type": "code",
      "metadata": {
        "colab": {
          "base_uri": "https://localhost:8080/"
        },
        "id": "c5SZNnQfjH_-",
        "outputId": "2a78e4b2-69de-4a1b-ff59-c74b6ff7b838"
      },
      "source": [
        "%%script bash\n",
        "mpicxx  ejemplo4_version_mpi.cpp -o version\n",
        "mpirun --allow-run-as-root -np 5 version"
      ],
      "execution_count": null,
      "outputs": [
        {
          "output_type": "stream",
          "text": [
            "1) Version mpi= 3.1\n",
            "2) Version mpi= 3, subversion= 1\n",
            "Implementación: Open MPI v2.1.1, package: Open MPI buildd@lcy01-amd64-009 Distribution, ident: 2.1.1, repo rev: v2.1.0-100-ga2fdb5b, May 10, 2017"
          ],
          "name": "stdout"
        }
      ]
    },
    {
      "cell_type": "markdown",
      "metadata": {
        "id": "dsmuXV2ypWFm"
      },
      "source": [
        "## PYTHON"
      ]
    },
    {
      "cell_type": "markdown",
      "metadata": {
        "id": "K85LIAgxiYju"
      },
      "source": [
        "!pip install mpi4py"
      ]
    },
    {
      "cell_type": "code",
      "metadata": {
        "colab": {
          "base_uri": "https://localhost:8080/"
        },
        "id": "k9ExUkNokeeF",
        "outputId": "4a185831-5394-4b78-e10a-73b74bfcacdd"
      },
      "source": [
        "!pip install mpi4py"
      ],
      "execution_count": null,
      "outputs": [
        {
          "output_type": "stream",
          "text": [
            "Requirement already satisfied: mpi4py in /usr/local/lib/python3.7/dist-packages (3.0.3)\n"
          ],
          "name": "stdout"
        }
      ]
    },
    {
      "cell_type": "code",
      "metadata": {
        "id": "zvrAOSSzpaa3",
        "colab": {
          "base_uri": "https://localhost:8080/"
        },
        "outputId": "87955bff-bf87-4fb0-e9a7-a20d8f456c71"
      },
      "source": [
        "%%writefile ejemplo4_version_mpi.py\n",
        "from mpi4py import  MPI\n",
        "\n",
        "comm = MPI.COMM_WORLD\n",
        "rank = comm.Get_rank()\n",
        "size = comm.Get_size()\n",
        "\n",
        "if rank == 0:\n",
        "    print(\"1) Version mpi= \" + str(MPI.VERSION) + \".\" + str(MPI.SUBVERSION))\n",
        "    version,subversion = MPI.Get_version()\n",
        "    print(\"2) Version mpi= \"+ str(version) + \", subversion= \" +str(subversion))\n",
        "\n",
        "    print('Implementación:',MPI.Get_library_version())\n"
      ],
      "execution_count": null,
      "outputs": [
        {
          "output_type": "stream",
          "text": [
            "Overwriting ejemplo4_version_mpi.py\n"
          ],
          "name": "stdout"
        }
      ]
    },
    {
      "cell_type": "code",
      "metadata": {
        "id": "Xqz29eZF_6aC",
        "colab": {
          "base_uri": "https://localhost:8080/"
        },
        "outputId": "1f7246d3-ab5f-49b6-9d8b-70153c8dbf57"
      },
      "source": [
        "%%script bash\n",
        "\n",
        "mpiexec -allow-run-as-root -n 2 python ejemplo4_version_mpi.py"
      ],
      "execution_count": null,
      "outputs": [
        {
          "output_type": "stream",
          "text": [
            "1) Version mpi= 3.1\n",
            "2) Version mpi= 3, subversion= 1\n",
            "Implementación: Open MPI v2.1.1, package: Open MPI buildd@lcy01-amd64-009 Distribution, ident: 2.1.1, repo rev: v2.1.0-100-ga2fdb5b, May 10, 2017\u0000\n"
          ],
          "name": "stdout"
        }
      ]
    },
    {
      "cell_type": "markdown",
      "metadata": {
        "id": "7kYrcjZyk8KP"
      },
      "source": [
        "##FORTRAN"
      ]
    },
    {
      "cell_type": "code",
      "metadata": {
        "colab": {
          "base_uri": "https://localhost:8080/"
        },
        "id": "dzwvg125k9_c",
        "outputId": "be5ffe8e-fa22-43bc-92a1-406e40d02d32"
      },
      "source": [
        "%%writefile version_mpi.f90\n",
        "PROGRAM VERSION_MPI\n",
        "    USE MPI\n",
        "\n",
        "    INTEGER ierror, rank, size, version, subversion\n",
        "    CHARACTER, DIMENSION(MPI_MAX_LIBRARY_VERSION_STRING) :: vendor\n",
        "\n",
        "    CALL MPI_INIT(ierror)\n",
        "    CALL MPI_COMM_SIZE(MPI_COMM_WORLD,size,ierror)\n",
        "    CALL MPI_COMM_RANK(MPI_COMM_WORLD,rank,ierror)\n",
        "\n",
        "    IF (rank == 0) THEN\n",
        "        WRITE(*,*) \"1) Version mpi= \" ,MPI_VERSION, MPI_SUBVERSION\n",
        "        CALL MPI_GET_VERSION(version,subversion,ierror)\n",
        "        WRITE(*,*) \"2) Version mpi= \" ,version, subversion\n",
        "    END IF\n",
        "\n",
        "    CALL MPI_FINALIZE(ierror)\n",
        "END PROGRAM"
      ],
      "execution_count": null,
      "outputs": [
        {
          "output_type": "stream",
          "text": [
            "Writing version_mpi.f90\n"
          ],
          "name": "stdout"
        }
      ]
    },
    {
      "cell_type": "code",
      "metadata": {
        "colab": {
          "base_uri": "https://localhost:8080/"
        },
        "id": "X2p6hhjDlCmb",
        "outputId": "ce2e507a-5d5c-4f3c-f2d2-b8ac2fe7c244"
      },
      "source": [
        "%%script bash\n",
        "mpif90  version_mpi.f90 -o version\n",
        "mpirun --allow-run-as-root -np 4 ./version"
      ],
      "execution_count": null,
      "outputs": [
        {
          "output_type": "stream",
          "text": [
            " 1) Version mpi=            3           1\n",
            " 2) Version mpi=            3           1\n"
          ],
          "name": "stdout"
        }
      ]
    },
    {
      "cell_type": "markdown",
      "metadata": {
        "id": "vc9keMqTapw9"
      },
      "source": [
        "[Regreso al índice](https://colab.research.google.com/drive/1FkTDokPR8tsXMH9PKeEi6Fvdd3tzqIkz)"
      ]
    },
    {
      "cell_type": "markdown",
      "metadata": {
        "id": "broDwLyBvMXa"
      },
      "source": [
        "#Máximos para enteros\n",
        "Tomado de https://docs.microsoft.com/en-us/cpp/c-language/cpp-integer-limits?view=msvc-160 "
      ]
    },
    {
      "cell_type": "markdown",
      "metadata": {
        "id": "TVKPCrhh6U3K"
      },
      "source": [
        "##C++"
      ]
    },
    {
      "cell_type": "code",
      "metadata": {
        "colab": {
          "base_uri": "https://localhost:8080/"
        },
        "id": "-gtejdonvO1U",
        "outputId": "f18d348e-24af-471d-fca2-688de689a70b"
      },
      "source": [
        "%%writefile maximos.cpp\n",
        "#include<limits.h>\n",
        "#include <iostream>\n",
        "#include <iomanip>\n",
        "using namespace std;\n",
        "int main(   ){        \n",
        "    cout << \"SHRT_MAX  = \" << setiosflags (ios::right) << setw(20) << SHRT_MAX  << endl;    \n",
        "    cout << \"USHRT_MAX = \" << setiosflags (ios::right) << setw(20) << USHRT_MAX << endl;\n",
        "    cout << \"INT_MAX   = \" << setiosflags (ios::right) << setw(20) << INT_MAX   << endl;\n",
        "    cout << \"UINT_MAX  = \" << setiosflags (ios::right) << setw(20) << UINT_MAX  << endl;\n",
        "    cout << \"LONG_MAX  = \" << setiosflags (ios::right) << setw(20) << LONG_MAX  << endl;\n",
        "    cout << \"ULONG_MAX = \" << setiosflags (ios::right) << setw(20) << ULONG_MAX << endl;\n",
        "    cout << \"LLONG_MAX = \" << setiosflags (ios::right) << setw(20) << LLONG_MAX << endl;\n",
        "    cout << \"ULLONG_MAX= \" << setiosflags (ios::right) << setw(20) << ULLONG_MAX<< endl;\n",
        "    return 0;\n",
        "} "
      ],
      "execution_count": null,
      "outputs": [
        {
          "output_type": "stream",
          "name": "stdout",
          "text": [
            "Writing maximos.cpp\n"
          ]
        }
      ]
    },
    {
      "cell_type": "code",
      "metadata": {
        "colab": {
          "base_uri": "https://localhost:8080/"
        },
        "id": "bVvAwSbYvO44",
        "outputId": "7e86c851-c758-4eff-9136-1909c2c390b1"
      },
      "source": [
        "%%script bash\n",
        "c++ maximos.cpp -o maximos\n",
        "./maximos "
      ],
      "execution_count": null,
      "outputs": [
        {
          "output_type": "stream",
          "name": "stdout",
          "text": [
            "SHRT_MAX  =                32767\n",
            "USHRT_MAX =                65535\n",
            "INT_MAX   =           2147483647\n",
            "UINT_MAX  =           4294967295\n",
            "LONG_MAX  =  9223372036854775807\n",
            "ULONG_MAX = 18446744073709551615\n",
            "LLONG_MAX =  9223372036854775807\n",
            "ULLONG_MAX= 18446744073709551615\n"
          ]
        }
      ]
    },
    {
      "cell_type": "markdown",
      "metadata": {
        "id": "EWVsyL7matwj"
      },
      "source": [
        "[Regreso al índice](https://colab.research.google.com/drive/1FkTDokPR8tsXMH9PKeEi6Fvdd3tzqIkz)"
      ]
    },
    {
      "cell_type": "markdown",
      "metadata": {
        "id": "LPVdD2E54sS0"
      },
      "source": [
        "#MPI_ABORT\n",
        "\n",
        "*MPI_Abort* finaliza los procesos que pertenecen al comunicador indicado en el argumento. Cuando el comunicador indicado es MPI_COMM_WORLD, equivale a cerrar toda la aplicación MPI (si el comunicador pasado es un subconjunto de MPI_COMM_WORLD, es posible que una implementación de MPI no termine solo los procesos que pertenecen a este comunicador. En cuyo caso, todos los procesos se terminan en su lugar). \n",
        "\n",
        "El estándar MPI no estipula ninguna directiva con respecto a cómo se debe manejar el código de error pasado. Sin embargo, en un entorno UNIX o POSIX, el código de error dado \"debería\" convertirse en el valor devuelto por el programa principal."
      ]
    },
    {
      "cell_type": "markdown",
      "metadata": {
        "id": "qcyz-Wf74w0V"
      },
      "source": [
        "##C\n",
        "\n",
        "int **MPI_Abort**(MPI_Comm communicator,\n",
        "              int error_code);"
      ]
    },
    {
      "cell_type": "code",
      "metadata": {
        "colab": {
          "base_uri": "https://localhost:8080/"
        },
        "id": "3o-r0MOE4sd7",
        "outputId": "51636edc-41ad-4be6-90c6-ef8b5391010f"
      },
      "source": [
        "%%writefile ejemplo_abort.c\n",
        "#include <stdio.h>\n",
        "#include <stdlib.h>\n",
        "#include <mpi.h>\n",
        "int main( ){\n",
        "    MPI_Init(NULL,NULL);    \n",
        " \n",
        "    MPI_Abort(MPI_COMM_WORLD, EXIT_FAILURE);\n",
        " \n",
        "    MPI_Finalize(); \n",
        "    return EXIT_SUCCESS;\n",
        "}"
      ],
      "execution_count": null,
      "outputs": [
        {
          "output_type": "stream",
          "name": "stdout",
          "text": [
            "Writing ejemplo_abort.c\n"
          ]
        }
      ]
    },
    {
      "cell_type": "code",
      "metadata": {
        "colab": {
          "base_uri": "https://localhost:8080/",
          "height": 520
        },
        "id": "YTCnLU-b4shb",
        "outputId": "b1b93501-7031-4508-ca2f-f9ad0f515340"
      },
      "source": [
        "%%script bash\n",
        "mpicc ejemplo_abort.c -o ejemplo_abort\n",
        "mpirun --allow-run-as-root -np 3 ejemplo_abort"
      ],
      "execution_count": null,
      "outputs": [
        {
          "output_type": "stream",
          "name": "stdout",
          "text": [
            "--------------------------------------------------------------------------\n",
            "MPI_ABORT was invoked on rank 1 in communicator MPI_COMM_WORLD\n",
            "with errorcode 1.\n",
            "\n",
            "NOTE: invoking MPI_ABORT causes Open MPI to kill all MPI processes.\n",
            "You may or may not see output from other processes, depending on\n",
            "exactly when Open MPI kills them.\n",
            "--------------------------------------------------------------------------\n"
          ]
        },
        {
          "output_type": "stream",
          "name": "stderr",
          "text": [
            "[36102d3647f7:00218] 2 more processes have sent help message help-mpi-api.txt / mpi-abort\n",
            "[36102d3647f7:00218] Set MCA parameter \"orte_base_help_aggregate\" to 0 to see all help / error messages\n"
          ]
        },
        {
          "output_type": "error",
          "ename": "CalledProcessError",
          "evalue": "ignored",
          "traceback": [
            "\u001b[0;31m---------------------------------------------------------------------------\u001b[0m",
            "\u001b[0;31mCalledProcessError\u001b[0m                        Traceback (most recent call last)",
            "\u001b[0;32m<ipython-input-12-e6404346d795>\u001b[0m in \u001b[0;36m<module>\u001b[0;34m\u001b[0m\n\u001b[0;32m----> 1\u001b[0;31m \u001b[0mget_ipython\u001b[0m\u001b[0;34m(\u001b[0m\u001b[0;34m)\u001b[0m\u001b[0;34m.\u001b[0m\u001b[0mrun_cell_magic\u001b[0m\u001b[0;34m(\u001b[0m\u001b[0;34m'script'\u001b[0m\u001b[0;34m,\u001b[0m \u001b[0;34m'bash'\u001b[0m\u001b[0;34m,\u001b[0m \u001b[0;34m'mpicc ejemplo_abort.c -o ejemplo_abort\\nmpirun --allow-run-as-root -np 3 ejemplo_abort\\n'\u001b[0m\u001b[0;34m)\u001b[0m\u001b[0;34m\u001b[0m\u001b[0;34m\u001b[0m\u001b[0m\n\u001b[0m",
            "\u001b[0;32m/usr/local/lib/python3.7/dist-packages/IPython/core/interactiveshell.py\u001b[0m in \u001b[0;36mrun_cell_magic\u001b[0;34m(self, magic_name, line, cell)\u001b[0m\n\u001b[1;32m   2357\u001b[0m             \u001b[0;32mwith\u001b[0m \u001b[0mself\u001b[0m\u001b[0;34m.\u001b[0m\u001b[0mbuiltin_trap\u001b[0m\u001b[0;34m:\u001b[0m\u001b[0;34m\u001b[0m\u001b[0;34m\u001b[0m\u001b[0m\n\u001b[1;32m   2358\u001b[0m                 \u001b[0margs\u001b[0m \u001b[0;34m=\u001b[0m \u001b[0;34m(\u001b[0m\u001b[0mmagic_arg_s\u001b[0m\u001b[0;34m,\u001b[0m \u001b[0mcell\u001b[0m\u001b[0;34m)\u001b[0m\u001b[0;34m\u001b[0m\u001b[0;34m\u001b[0m\u001b[0m\n\u001b[0;32m-> 2359\u001b[0;31m                 \u001b[0mresult\u001b[0m \u001b[0;34m=\u001b[0m \u001b[0mfn\u001b[0m\u001b[0;34m(\u001b[0m\u001b[0;34m*\u001b[0m\u001b[0margs\u001b[0m\u001b[0;34m,\u001b[0m \u001b[0;34m**\u001b[0m\u001b[0mkwargs\u001b[0m\u001b[0;34m)\u001b[0m\u001b[0;34m\u001b[0m\u001b[0;34m\u001b[0m\u001b[0m\n\u001b[0m\u001b[1;32m   2360\u001b[0m             \u001b[0;32mreturn\u001b[0m \u001b[0mresult\u001b[0m\u001b[0;34m\u001b[0m\u001b[0;34m\u001b[0m\u001b[0m\n\u001b[1;32m   2361\u001b[0m \u001b[0;34m\u001b[0m\u001b[0m\n",
            "\u001b[0;32m<decorator-gen-103>\u001b[0m in \u001b[0;36mshebang\u001b[0;34m(self, line, cell)\u001b[0m\n",
            "\u001b[0;32m/usr/local/lib/python3.7/dist-packages/IPython/core/magic.py\u001b[0m in \u001b[0;36m<lambda>\u001b[0;34m(f, *a, **k)\u001b[0m\n\u001b[1;32m    185\u001b[0m     \u001b[0;31m# but it's overkill for just that one bit of state.\u001b[0m\u001b[0;34m\u001b[0m\u001b[0;34m\u001b[0m\u001b[0;34m\u001b[0m\u001b[0m\n\u001b[1;32m    186\u001b[0m     \u001b[0;32mdef\u001b[0m \u001b[0mmagic_deco\u001b[0m\u001b[0;34m(\u001b[0m\u001b[0marg\u001b[0m\u001b[0;34m)\u001b[0m\u001b[0;34m:\u001b[0m\u001b[0;34m\u001b[0m\u001b[0;34m\u001b[0m\u001b[0m\n\u001b[0;32m--> 187\u001b[0;31m         \u001b[0mcall\u001b[0m \u001b[0;34m=\u001b[0m \u001b[0;32mlambda\u001b[0m \u001b[0mf\u001b[0m\u001b[0;34m,\u001b[0m \u001b[0;34m*\u001b[0m\u001b[0ma\u001b[0m\u001b[0;34m,\u001b[0m \u001b[0;34m**\u001b[0m\u001b[0mk\u001b[0m\u001b[0;34m:\u001b[0m \u001b[0mf\u001b[0m\u001b[0;34m(\u001b[0m\u001b[0;34m*\u001b[0m\u001b[0ma\u001b[0m\u001b[0;34m,\u001b[0m \u001b[0;34m**\u001b[0m\u001b[0mk\u001b[0m\u001b[0;34m)\u001b[0m\u001b[0;34m\u001b[0m\u001b[0;34m\u001b[0m\u001b[0m\n\u001b[0m\u001b[1;32m    188\u001b[0m \u001b[0;34m\u001b[0m\u001b[0m\n\u001b[1;32m    189\u001b[0m         \u001b[0;32mif\u001b[0m \u001b[0mcallable\u001b[0m\u001b[0;34m(\u001b[0m\u001b[0marg\u001b[0m\u001b[0;34m)\u001b[0m\u001b[0;34m:\u001b[0m\u001b[0;34m\u001b[0m\u001b[0;34m\u001b[0m\u001b[0m\n",
            "\u001b[0;32m/usr/local/lib/python3.7/dist-packages/IPython/core/magics/script.py\u001b[0m in \u001b[0;36mshebang\u001b[0;34m(self, line, cell)\u001b[0m\n\u001b[1;32m    243\u001b[0m             \u001b[0msys\u001b[0m\u001b[0;34m.\u001b[0m\u001b[0mstderr\u001b[0m\u001b[0;34m.\u001b[0m\u001b[0mflush\u001b[0m\u001b[0;34m(\u001b[0m\u001b[0;34m)\u001b[0m\u001b[0;34m\u001b[0m\u001b[0;34m\u001b[0m\u001b[0m\n\u001b[1;32m    244\u001b[0m         \u001b[0;32mif\u001b[0m \u001b[0margs\u001b[0m\u001b[0;34m.\u001b[0m\u001b[0mraise_error\u001b[0m \u001b[0;32mand\u001b[0m \u001b[0mp\u001b[0m\u001b[0;34m.\u001b[0m\u001b[0mreturncode\u001b[0m\u001b[0;34m!=\u001b[0m\u001b[0;36m0\u001b[0m\u001b[0;34m:\u001b[0m\u001b[0;34m\u001b[0m\u001b[0;34m\u001b[0m\u001b[0m\n\u001b[0;32m--> 245\u001b[0;31m             \u001b[0;32mraise\u001b[0m \u001b[0mCalledProcessError\u001b[0m\u001b[0;34m(\u001b[0m\u001b[0mp\u001b[0m\u001b[0;34m.\u001b[0m\u001b[0mreturncode\u001b[0m\u001b[0;34m,\u001b[0m \u001b[0mcell\u001b[0m\u001b[0;34m,\u001b[0m \u001b[0moutput\u001b[0m\u001b[0;34m=\u001b[0m\u001b[0mout\u001b[0m\u001b[0;34m,\u001b[0m \u001b[0mstderr\u001b[0m\u001b[0;34m=\u001b[0m\u001b[0merr\u001b[0m\u001b[0;34m)\u001b[0m\u001b[0;34m\u001b[0m\u001b[0;34m\u001b[0m\u001b[0m\n\u001b[0m\u001b[1;32m    246\u001b[0m \u001b[0;34m\u001b[0m\u001b[0m\n\u001b[1;32m    247\u001b[0m     \u001b[0;32mdef\u001b[0m \u001b[0m_run_script\u001b[0m\u001b[0;34m(\u001b[0m\u001b[0mself\u001b[0m\u001b[0;34m,\u001b[0m \u001b[0mp\u001b[0m\u001b[0;34m,\u001b[0m \u001b[0mcell\u001b[0m\u001b[0;34m,\u001b[0m \u001b[0mto_close\u001b[0m\u001b[0;34m)\u001b[0m\u001b[0;34m:\u001b[0m\u001b[0;34m\u001b[0m\u001b[0;34m\u001b[0m\u001b[0m\n",
            "\u001b[0;31mCalledProcessError\u001b[0m: Command 'b'mpicc ejemplo_abort.c -o ejemplo_abort\\nmpirun --allow-run-as-root -np 3 ejemplo_abort\\n'' returned non-zero exit status 1."
          ]
        }
      ]
    },
    {
      "cell_type": "markdown",
      "metadata": {
        "id": "T8jA0Jqr43Az"
      },
      "source": [
        "[Regreso al índice](https://colab.research.google.com/drive/1FkTDokPR8tsXMH9PKeEi6Fvdd3tzqIkz)"
      ]
    }
  ]
}