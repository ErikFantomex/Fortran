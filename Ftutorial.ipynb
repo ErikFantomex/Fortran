{
  "nbformat": 4,
  "nbformat_minor": 0,
  "metadata": {
    "colab": {
      "provenance": []
    },
    "kernelspec": {
      "name": "python3",
      "display_name": "Python 3"
    },
    "language_info": {
      "name": "python"
    }
  },
  "cells": [
    {
      "cell_type": "markdown",
      "source": [
        "# Ejecutar Codigo en jupyter notebooks "
      ],
      "metadata": {
        "id": "yGzbmyU9gB93"
      }
    },
    {
      "cell_type": "markdown",
      "source": [
        "Usando fortran en un entorno virtual \n"
      ],
      "metadata": {
        "id": "d1Y1ATCQd0X2"
      }
    },
    {
      "cell_type": "markdown",
      "source": [
        "* link:librochapman : https://drive.google.com/file/d/1F-lTtfovAozrrN24G6tHTFPufiQZarki/view?usp=share_link"
      ],
      "metadata": {
        "id": "Oax4b-pRoFrq"
      }
    },
    {
      "cell_type": "markdown",
      "source": [],
      "metadata": {
        "id": "QxG22tmGoDuh"
      }
    },
    {
      "cell_type": "code",
      "execution_count": null,
      "metadata": {
        "colab": {
          "base_uri": "https://localhost:8080/"
        },
        "id": "wkm1HqYec6oZ",
        "outputId": "2f25124b-1b0d-4ec5-872c-5c19c9c95a57"
      },
      "outputs": [
        {
          "output_type": "stream",
          "name": "stdout",
          "text": [
            "Writing get_age.f90\n"
          ]
        }
      ],
      "source": [
        "%%writefile get_age.f90\n",
        "\n",
        "program get_age\n",
        "    real :: year, age\n",
        "    print *, 'What year were you born?'\n",
        "    read *, year\n",
        "    age = 2020 - year\n",
        "    print *, 'Your age is', age\n",
        "end program get_age\n"
      ]
    },
    {
      "cell_type": "code",
      "source": [
        "%%script bash\n",
        "\n",
        "gfortran -ffree-form get_age.f90\n",
        "./a.out\n",
        "1984"
      ],
      "metadata": {
        "colab": {
          "base_uri": "https://localhost:8080/"
        },
        "id": "rQvvImYAd9bT",
        "outputId": "4a606700-f4ec-4e4c-fcaa-174abb2ea5d3"
      },
      "execution_count": null,
      "outputs": [
        {
          "output_type": "stream",
          "name": "stdout",
          "text": [
            " What year were you born?\n",
            " Your age is   36.0000000    \n"
          ]
        }
      ]
    }
  ]
}